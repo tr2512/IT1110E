{
 "cells": [
  {
   "cell_type": "markdown",
   "id": "d9183800",
   "metadata": {},
   "source": [
    "### Problem 1"
   ]
  },
  {
   "cell_type": "code",
   "execution_count": 7,
   "id": "6b960998",
   "metadata": {},
   "outputs": [
    {
     "name": "stdout",
     "output_type": "stream",
     "text": [
      "34058310\n"
     ]
    }
   ],
   "source": [
    "def square_sum(n):\n",
    "    if n == 1:\n",
    "        return 1\n",
    "    return n*n + square_sum(n-1)\n",
    "print(square_sum(467))"
   ]
  },
  {
   "cell_type": "markdown",
   "id": "98e58be0",
   "metadata": {},
   "source": [
    "### Problem 2"
   ]
  },
  {
   "cell_type": "code",
   "execution_count": 24,
   "id": "adc5d98e",
   "metadata": {},
   "outputs": [],
   "source": [
    "def combination(k,n):\n",
    "    if k == 0 or k == n:\n",
    "        return 1\n",
    "    return combination(k-1,n-1) + combination(k, n-1)\n",
    "\n",
    "def line(n, i = 0):\n",
    "    if i == n+1:\n",
    "        return None\n",
    "    print(combination(i,n), end=' ')\n",
    "    line(n,i+1)\n",
    "\n",
    "def display_pascal_triangle(n, i = 0):\n",
    "    if i == n:\n",
    "        return None\n",
    "    print((n-i-1)*' ',end='')\n",
    "    line(i)\n",
    "    print('')\n",
    "    display_pascal_triangle(n,i+1)"
   ]
  },
  {
   "cell_type": "markdown",
   "id": "dc7af5c7",
   "metadata": {},
   "source": [
    "### Problem 3"
   ]
  },
  {
   "cell_type": "code",
   "execution_count": null,
   "id": "9ca20e2d",
   "metadata": {
    "scrolled": true
   },
   "outputs": [],
   "source": [
    "def hanoi_tower(n):\n",
    "    if n == 1:\n",
    "        return 1\n",
    "    return 1+2*hanoi_tower(n-1)"
   ]
  },
  {
   "cell_type": "markdown",
   "id": "1d2865fa",
   "metadata": {},
   "source": [
    "### Problem 4"
   ]
  },
  {
   "cell_type": "code",
   "execution_count": null,
   "id": "2bc07d05",
   "metadata": {},
   "outputs": [],
   "source": [
    "power = lambda x,y : 1 if y == 0 else x*power(x,y-1)"
   ]
  },
  {
   "cell_type": "markdown",
   "id": "30fc4bd4",
   "metadata": {},
   "source": [
    "### Problem 5"
   ]
  },
  {
   "cell_type": "code",
   "execution_count": 23,
   "id": "1693320d",
   "metadata": {},
   "outputs": [],
   "source": [
    "mid = lambda a, b, c: a if (a-b)*(a-c) <= 0 else(b if (b-a)*(b-c) <= 0 else c)\n"
   ]
  }
 ],
 "metadata": {
  "kernelspec": {
   "display_name": "Python 3",
   "language": "python",
   "name": "python3"
  },
  "language_info": {
   "codemirror_mode": {
    "name": "ipython",
    "version": 3
   },
   "file_extension": ".py",
   "mimetype": "text/x-python",
   "name": "python",
   "nbconvert_exporter": "python",
   "pygments_lexer": "ipython3",
   "version": "3.6.13"
  }
 },
 "nbformat": 4,
 "nbformat_minor": 5
}
