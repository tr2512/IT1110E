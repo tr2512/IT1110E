{
 "cells": [
  {
   "cell_type": "code",
   "execution_count": null,
   "id": "2e4b0ef8",
   "metadata": {},
   "outputs": [],
   "source": [
    "\n",
    "\n",
    "\n",
    "a = int(input())\n",
    "b = int(input())\n",
    "c = int(input())\n",
    "if a>(a+b+c)/3 and a>b and a>c:\n",
    "    print(a)\n",
    "elif b>(a+b+c)/3 and b>a and b>c:\n",
    "    print(b)\n",
    "else:\n",
    "    print(c)\n",
    "\n",
    "\n",
    "\n",
    "a = int(input())\n",
    "b = float(input())\n",
    "if a == 1:\n",
    "    if b <=3:\n",
    "        print('{:.2f}'.format(b*0.7))\n",
    "    else:\n",
    "        print('{:.2f}'.format(0.7*3+2.5*(b-3)))\n",
    "elif a == 2:\n",
    "    if b <=3:\n",
    "        print('{:.2f}'.format(b*1.5))\n",
    "    else:\n",
    "        print('{:.2f}'.format(1.5*3+2*(b-3)))\n",
    "else:\n",
    "    if b <= 2:\n",
    "        print('{:.2f}'.format(b*2.5))\n",
    "    else:\n",
    "        print('{:.2f}'.format(2.5*2+3.25*(b-2)))"
   ]
  },
  {
   "cell_type": "markdown",
   "id": "e51a4e0c",
   "metadata": {},
   "source": [
    "There are 5 problems but since i'm lazy so here are solutions to 4 of them:"
   ]
  },
  {
   "cell_type": "markdown",
   "id": "021389bf",
   "metadata": {},
   "source": [
    "Problem ...\n"
   ]
  },
  {
   "cell_type": "code",
   "execution_count": 3,
   "id": "b1ca2915",
   "metadata": {},
   "outputs": [
    {
     "name": "stdout",
     "output_type": "stream",
     "text": [
      "1\n",
      "2.00\n"
     ]
    }
   ],
   "source": [
    "a = float(input())\n",
    "if a <= 10000:\n",
    "    print('{:.2f}'.format(2*a))\n",
    "elif a > 10000 and a <= 20000:\n",
    "    print('{:.2f}'.format(2.15*a))\n",
    "else: \n",
    "    print('{:.2f}'.format(2.25*a))"
   ]
  },
  {
   "cell_type": "markdown",
   "id": "326f540b",
   "metadata": {},
   "source": [
    "Problem ..."
   ]
  },
  {
   "cell_type": "code",
   "execution_count": null,
   "id": "132175d3",
   "metadata": {},
   "outputs": [],
   "source": [
    "a = int(input())\n",
    "b = int(input())\n",
    "c = int(input())\n",
    "if a == b == c:\n",
    "    print('Equilateral')\n",
    "elif a == b or b == c or c == a:\n",
    "    print('Isosceles')\n",
    "else:\n",
    "    print('Scalene')\n"
   ]
  },
  {
   "cell_type": "markdown",
   "id": "7d9f3bea",
   "metadata": {},
   "source": [
    "Problem"
   ]
  },
  {
   "cell_type": "code",
   "execution_count": null,
   "id": "49d56a86",
   "metadata": {},
   "outputs": [],
   "source": [
    "a = int(input())\n",
    "b = int(input())\n",
    "c = int(input())\n",
    "if a>b and a>c:\n",
    "    print(a)\n",
    "elif b>a and b>c:\n",
    "    print(b)\n",
    "else:\n",
    "    print(c)\n"
   ]
  },
  {
   "cell_type": "markdown",
   "id": "c7ea8adf",
   "metadata": {},
   "source": [
    "Problem ..."
   ]
  }
 ],
 "metadata": {
  "kernelspec": {
   "display_name": "Python 3",
   "language": "python",
   "name": "python3"
  },
  "language_info": {
   "codemirror_mode": {
    "name": "ipython",
    "version": 3
   },
   "file_extension": ".py",
   "mimetype": "text/x-python",
   "name": "python",
   "nbconvert_exporter": "python",
   "pygments_lexer": "ipython3",
   "version": "3.6.13"
  }
 },
 "nbformat": 4,
 "nbformat_minor": 5
}
