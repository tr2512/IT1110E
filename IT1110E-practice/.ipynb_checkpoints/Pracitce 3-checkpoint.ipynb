{
 "cells": [
  {
   "cell_type": "markdown",
   "metadata": {},
   "source": [
    "# Practice 3"
   ]
  },
  {
   "cell_type": "markdown",
   "metadata": {},
   "source": [
    "## Part 1. Strings"
   ]
  },
  {
   "cell_type": "markdown",
   "metadata": {},
   "source": [
    "### Exercise 1"
   ]
  },
  {
   "cell_type": "markdown",
   "metadata": {},
   "source": [
    "Write a program to print a string consists of every second character of the string in reverse order starting from the last one and with the first character in the result string capitalized\n",
    "\n",
    "Example: Input: abcdefg, Output: Geca"
   ]
  },
  {
   "cell_type": "code",
   "execution_count": null,
   "metadata": {},
   "outputs": [],
   "source": [
    "st = input()\n",
    "print(st[::-2].capitalize())"
   ]
  },
  {
   "cell_type": "markdown",
   "metadata": {},
   "source": [
    "### Exercise 2"
   ]
  },
  {
   "cell_type": "markdown",
   "metadata": {},
   "source": [
    "In naming convention of some languages, variables are often named using Camel case convention (for example: ArrayOfNumber), while in other languages (including Python), variables are named using Snake case convention (for example: array_of_number)\n",
    "\n",
    "Write a program to convert a string from Snake case to Camel case\n",
    "\n",
    "Example: Input: array_of_number, Output: ArrayOfNumber"
   ]
  },
  {
   "cell_type": "code",
   "execution_count": null,
   "metadata": {},
   "outputs": [],
   "source": [
    "st = input()\n",
    "lt = st.split('_')\n",
    "lt2 = [i.capitalize() for i in lt]\n",
    "print(''.join(lt2))"
   ]
  },
  {
   "cell_type": "markdown",
   "metadata": {},
   "source": [
    "### Exercise 3"
   ]
  },
  {
   "cell_type": "markdown",
   "metadata": {},
   "source": [
    "Write a program to remove all the uneccessary spaces from a string, including leading, trailing whitespaces and multiple whitespaces in the middle of the sentence\n"
   ]
  },
  {
   "cell_type": "code",
   "execution_count": null,
   "metadata": {},
   "outputs": [],
   "source": [
    "st = input()\n",
    "print(' '.join(st.split()))"
   ]
  },
  {
   "cell_type": "markdown",
   "metadata": {},
   "source": [
    "### Exercise 4"
   ]
  },
  {
   "cell_type": "markdown",
   "metadata": {},
   "source": [
    "Write a function that return the mirror image of a string if that mirror image is still a valid string. Otherwise, return \"NOT POSSIBLE\"\n",
    "\n",
    "Note: b,d, i, o, p, q, v, w, x are characters with the mirror images still valid English characters\n",
    "\n",
    "Example: Input: void, Output: biov"
   ]
  },
  {
   "cell_type": "code",
   "execution_count": null,
   "metadata": {},
   "outputs": [],
   "source": [
    "def mirror(s):\n",
    "    mirror_same = ['i','o','v','w','x']\n",
    "    mirror_opo = {'p':'q','q':'p','d':'b','b':'d'}\n",
    "    img = []\n",
    "    for x in s[::-1]:\n",
    "        if x in mirror_same:\n",
    "            img.append(x)\n",
    "        elif x in mirror_opo:\n",
    "            img.append(mirror_opo[x])\n",
    "        else:\n",
    "            return 'NOT POSSIBLE'\n",
    "    return ''.join(img)\n",
    "mirror('void')"
   ]
  },
  {
   "cell_type": "markdown",
   "metadata": {},
   "source": [
    "## Part 2. Tuples, lists and dictionaries"
   ]
  },
  {
   "cell_type": "markdown",
   "metadata": {},
   "source": [
    "#### 2.1 Basic tuples, lists and dictionaries¶"
   ]
  },
  {
   "cell_type": "markdown",
   "metadata": {},
   "source": [
    "### Exercise 5"
   ]
  },
  {
   "cell_type": "markdown",
   "metadata": {},
   "source": [
    "Write a function to remove all consecutive duplicates in a list and return the new list\n",
    "\n"
   ]
  },
  {
   "cell_type": "code",
   "execution_count": null,
   "metadata": {},
   "outputs": [],
   "source": [
    "def remove_duplicates(l):\n",
    "    x = [l[0]]\n",
    "    for i in range(1,len(l)):\n",
    "        if l[i] != l[i-1]:\n",
    "            x.append(l[i])\n",
    "    return x"
   ]
  },
  {
   "cell_type": "markdown",
   "metadata": {},
   "source": [
    "### Exercise 6"
   ]
  },
  {
   "cell_type": "markdown",
   "metadata": {},
   "source": [
    "Write a program to read 2 matrices and output their sum. Example:\n",
    "\n",
    "Input (the first line contains 2 dimensions M * N of each matrix, the next M lines contains the first matrix and the last M lines contains the second matrix)"
   ]
  },
  {
   "cell_type": "code",
   "execution_count": null,
   "metadata": {},
   "outputs": [],
   "source": [
    "size = [int(i) for i in input().split()]\n",
    "a = []\n",
    "b = []\n",
    "m,n = size[0],size[1]\n",
    "total = [[0]*n for i in range(m)]\n",
    "for i in range(m):\n",
    "    x = [int(i) for i in input().split()]\n",
    "    a.append(x)\n",
    "for i in range(m):\n",
    "    y = [int(i) for i in input().split()]\n",
    "    b.append(y)\n",
    "for i in range(m):\n",
    "    for j in range(n):\n",
    "        total[i][j] = a[i][j] + b[i][j]"
   ]
  },
  {
   "cell_type": "markdown",
   "metadata": {},
   "source": [
    "### Exercise 7"
   ]
  },
  {
   "cell_type": "markdown",
   "metadata": {},
   "source": [
    "Write a function to sort the list of tuples of students by the students' scores. If they have the same scores, sort the students by their names.\n",
    "\n"
   ]
  },
  {
   "cell_type": "code",
   "execution_count": null,
   "metadata": {},
   "outputs": [],
   "source": [
    "def sort_students(l):\n",
    "    l1 = l.copy()\n",
    "    l1.sort(key = lambda x: x[0])\n",
    "    l1.sort(key = lambda x: x[1])\n",
    "    return l1"
   ]
  },
  {
   "cell_type": "markdown",
   "metadata": {},
   "source": [
    "### Exercise 8"
   ]
  },
  {
   "cell_type": "markdown",
   "metadata": {},
   "source": [
    "Write a fuction that return a dictionary of each character frequency in the string\n",
    "\n"
   ]
  },
  {
   "cell_type": "code",
   "execution_count": null,
   "metadata": {},
   "outputs": [],
   "source": [
    "def dictionary_convert(s):\n",
    "    x = {}\n",
    "    for i in s:\n",
    "        x[i] = x.get(i,0) + 1\n",
    "    return x"
   ]
  },
  {
   "cell_type": "markdown",
   "metadata": {},
   "source": [
    "#### 2.2 List comprehensions"
   ]
  },
  {
   "cell_type": "markdown",
   "metadata": {},
   "source": [
    "### Exercise 9"
   ]
  },
  {
   "cell_type": "markdown",
   "metadata": {},
   "source": [
    "Write a function using list comprehension that takes a list as input and return the list with all even numbers doubled, and all odd numbers turned negative\n",
    "\n"
   ]
  },
  {
   "cell_type": "code",
   "execution_count": null,
   "metadata": {},
   "outputs": [],
   "source": [
    "def transform(l):\n",
    "    return [i*2 if i%2 == 0 else -1*i for i in l]\n",
    "transform([32, 56, 99, -40, 20, 78, 43, -61, 61])"
   ]
  },
  {
   "cell_type": "markdown",
   "metadata": {},
   "source": [
    "### Exercise 10"
   ]
  },
  {
   "cell_type": "markdown",
   "metadata": {},
   "source": [
    "Write a program using list comprehension that print a matrix consists of increasing element (starting from 1), given its dimension.\n",
    "\n"
   ]
  },
  {
   "cell_type": "code",
   "execution_count": null,
   "metadata": {},
   "outputs": [],
   "source": [
    "size = [int(i) for i in input().split()]\n",
    "m,n = size[0],size[1]\n",
    "x = [[ str(n*(i-1)+j) for j in range(1, n+1)] for i in range(1,m+1)]\n",
    "for i in x:\n",
    "    print(' '.join(i))"
   ]
  },
  {
   "cell_type": "markdown",
   "metadata": {},
   "source": [
    "### Exercise 11"
   ]
  },
  {
   "cell_type": "markdown",
   "metadata": {},
   "source": [
    "Write a program using list comprehension that return the Caesar encryption of a lowercase string, given the shift length. Note: in Caesar encryption, each letter is shifted to the right in the alphabet by a distance (if the end of the alphabet is reached, the shift will start over from letter a/A)\n",
    "\n",
    "\n"
   ]
  },
  {
   "cell_type": "code",
   "execution_count": null,
   "metadata": {},
   "outputs": [],
   "source": [
    "n = int(input())\n",
    "s = input()\n",
    "for i in s:\n",
    "    if i == ' ':\n",
    "        print(i,end='')\n",
    "    elif ord(i) + n > 122:\n",
    "        print(chr((ord(i)+n-26)),end='')\n",
    "    else: \n",
    "        print(chr(ord(i)+n),end='')\n",
    "\n"
   ]
  }
 ],
 "metadata": {
  "kernelspec": {
   "display_name": "Python 3",
   "language": "python",
   "name": "python3"
  },
  "language_info": {
   "codemirror_mode": {
    "name": "ipython",
    "version": 3
   },
   "file_extension": ".py",
   "mimetype": "text/x-python",
   "name": "python",
   "nbconvert_exporter": "python",
   "pygments_lexer": "ipython3",
   "version": "3.8.5"
  }
 },
 "nbformat": 4,
 "nbformat_minor": 4
}
