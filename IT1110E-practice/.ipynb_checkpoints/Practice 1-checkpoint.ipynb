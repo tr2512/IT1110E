{
 "cells": [
  {
   "cell_type": "markdown",
   "id": "7e11c90e",
   "metadata": {},
   "source": [
    "# Practice 1: Control flow"
   ]
  },
  {
   "cell_type": "markdown",
   "id": "9b1433bf",
   "metadata": {},
   "source": [
    "## Part 1: Conditional statements"
   ]
  },
  {
   "cell_type": "markdown",
   "id": "7b1c85f1",
   "metadata": {},
   "source": [
    "### Excercise 1"
   ]
  },
  {
   "cell_type": "markdown",
   "id": "1f2a0291",
   "metadata": {},
   "source": [
    "Write a program to display the number of days in a month, given the month and the year\n",
    "\n"
   ]
  },
  {
   "cell_type": "code",
   "execution_count": null,
   "id": "e3dd1c12",
   "metadata": {
    "scrolled": true
   },
   "outputs": [],
   "source": [
    "month = int(input())\n",
    "year = int(input())\n",
    "if month == 2:\n",
    "    if year % 100 == 0 and year % 400 != 0:\n",
    "        print('28')\n",
    "    elif year % 4 == 0:\n",
    "        print('29')\n",
    "    else:\n",
    "        print('28')\n",
    "elif month == 4 or month == 6 or month == 9 or month == 11:\n",
    "    print('30')\n",
    "else:\n",
    "    print('31')"
   ]
  },
  {
   "cell_type": "markdown",
   "id": "ef1b38c8",
   "metadata": {},
   "source": [
    "### Exercise 2"
   ]
  },
  {
   "cell_type": "markdown",
   "id": "5ba9bb82",
   "metadata": {},
   "source": [
    "Write a program to determine if 3 distinct points create an acute, right, obtuse triangle or a straight line, given the coordinates of the points\n",
    "\n"
   ]
  },
  {
   "cell_type": "code",
   "execution_count": null,
   "id": "107ade79",
   "metadata": {},
   "outputs": [],
   "source": [
    "ax, ay, bx, by, cx, cy = [float(i) for i in input().split()]\n",
    "a = (ax-bx)**2+(ay-by)**2\n",
    "b = (bx-cx)**2+(by-cy)**2\n",
    "c = (ax-cx)**2+(ay-cy)**2\n",
    "if abs((bx-ax)*(cy-ay) - (cx-ax)*(by-ay)) < 10**(-7):\n",
    "    print(\"line\")\n",
    "elif a + b > c and b + c > a and c + a > b:\n",
    "    print(\"acute\")\n",
    "elif abs(a + b - c) < 10**(-7) or abs(b + c - a) < 10**(-7) or abs(c + a - b) < 10**(-7):\n",
    "    print(\"right\")\n",
    "else:\n",
    "    print(\"obtuse\")"
   ]
  },
  {
   "cell_type": "markdown",
   "id": "537354d5",
   "metadata": {},
   "source": [
    "### Exercise 3"
   ]
  },
  {
   "cell_type": "markdown",
   "id": "a36269de",
   "metadata": {},
   "source": [
    "GrabBike's pricing in Hanoi is calculated as follow: for the first 2km, the customer will be charged VND 12,000 and for each next km, he will be charged VND 3,500. In addition, after the first 2km, the customer will be charged VND 350 for each minute travel.\n",
    "\n",
    "Given the distance and the average speed (assume that the speed is constant), calculate the amount of money that the customer has to pay"
   ]
  },
  {
   "cell_type": "code",
   "execution_count": null,
   "id": "afcfaf0e",
   "metadata": {},
   "outputs": [],
   "source": [
    "distance = float(input())\n",
    "speed = float(input())\n",
    "time = (distance-2)/speed\n",
    "if distance <= 2:\n",
    "    print(12000*distance)\n",
    "else:\n",
    "    print(12000*2 + 3500*(distance-2) + 350*(time))"
   ]
  },
  {
   "cell_type": "markdown",
   "id": "841bb3f3",
   "metadata": {},
   "source": [
    "## Part 2: Loops"
   ]
  },
  {
   "cell_type": "markdown",
   "id": "e1472c47",
   "metadata": {},
   "source": [
    "### Exercise 4"
   ]
  },
  {
   "cell_type": "markdown",
   "id": "27e5ec46",
   "metadata": {},
   "source": [
    "The Collatz conjecture is a conjecture in mathematics that concerns a sequence defined as follows: start with any positive integer n. If the previous term is even, the next term is one half of the previous term. If the previous term is odd, the next term is 3 times the previous term plus 1. The conjecture is that no matter what value of n, the sequence will always reach 1.\n",
    "\n",
    "For instance, starting with n = 12, one gets the sequence 12, 6, 3, 10, 5, 16, 8, 4, 2, 1.\n",
    "\n",
    "Given the starting number, print the value of all the numbers in its path to 1"
   ]
  },
  {
   "cell_type": "code",
   "execution_count": 19,
   "id": "b7ffca6a",
   "metadata": {},
   "outputs": [
    {
     "name": "stdout",
     "output_type": "stream",
     "text": [
      "45\n",
      "45 136 68 34 17 52 26 13 40 20 10 5 16 8 4 2 1\n"
     ]
    }
   ],
   "source": [
    "n = int(input())\n",
    "while n != 1:\n",
    "    print(n, end=' ')\n",
    "    if n % 2 == 0:\n",
    "        n //= 2\n",
    "    else:\n",
    "        n = 3*n + 1\n",
    "print(1)"
   ]
  },
  {
   "cell_type": "markdown",
   "id": "4b858d7f",
   "metadata": {},
   "source": [
    "### Exercise 5"
   ]
  },
  {
   "cell_type": "markdown",
   "id": "1ff6f427",
   "metadata": {},
   "source": [
    "Write a program to check if an integer is a prime number or not\n",
    "\n"
   ]
  },
  {
   "cell_type": "code",
   "execution_count": null,
   "id": "7d564c35",
   "metadata": {},
   "outputs": [],
   "source": [
    "import math\n",
    "n = int(input())\n",
    "if n < 2:\n",
    "    print('NO')\n",
    "elif n == 2:\n",
    "    print('YES')\n",
    "else:\n",
    "    id = 0\n",
    "    for i in range (2,int(math.sqrt(n))+1):\n",
    "        if n % i == 0:\n",
    "            id = 1\n",
    "            break\n",
    "    if id == 0:\n",
    "        print('YES')\n",
    "    else:\n",
    "        print('NO')"
   ]
  },
  {
   "cell_type": "markdown",
   "id": "d1c38517",
   "metadata": {},
   "source": [
    "### Exercise 6"
   ]
  },
  {
   "cell_type": "markdown",
   "id": "a23f1a63",
   "metadata": {},
   "source": [
    "Print a shape that looks like the one below, given the height\n",
    "\n",
    "Example: n = 3"
   ]
  },
  {
   "cell_type": "code",
   "execution_count": 12,
   "id": "ea7b9ee9",
   "metadata": {},
   "outputs": [
    {
     "name": "stdout",
     "output_type": "stream",
     "text": [
      "11\n",
      "__________/\\__________\n",
      "_________/  \\_________\n",
      "________/    \\________\n",
      "_______/      \\_______\n",
      "______/        \\______\n",
      "_____/          \\_____\n",
      "____/            \\____\n",
      "___/              \\___\n",
      "__/                \\__\n",
      "_/                  \\_\n",
      "/                    \\\n"
     ]
    }
   ],
   "source": [
    "n = int(input())\n",
    "for i in range(n):\n",
    "    print((n-i-1)*('_') + '/' + 2*i*(' ') + '\\\\' + (n-i-1)*('_'))"
   ]
  },
  {
   "cell_type": "markdown",
   "id": "b772eb2e",
   "metadata": {},
   "source": [
    "### Exercise 7"
   ]
  },
  {
   "cell_type": "markdown",
   "id": "3832c721",
   "metadata": {},
   "source": [
    "One way of computing square roots is Newton's method. Suppose that you want to know the square root of a. If you start with (almost) any estimate x, then you can get a better estimate with the formula: y = (x + a/x)/2\n",
    "\n",
    "Given a non-negative number a, compute the square root of that number using Newton's method with the precision of 0.0000001"
   ]
  },
  {
   "cell_type": "code",
   "execution_count": 28,
   "id": "96135aca",
   "metadata": {},
   "outputs": [
    {
     "name": "stdout",
     "output_type": "stream",
     "text": [
      "24\n",
      "4.89897948557\n",
      "25\n"
     ]
    }
   ],
   "source": [
    "a = float(input())\n",
    "x = 9999999\n",
    "i = 0\n",
    "while abs(x**2-a) > 10**(-7):\n",
    "    x = (x+a/x)/2\n",
    "    i += 1\n",
    "print('{:.11f}'.format(x))\n",
    "print(i)"
   ]
  },
  {
   "cell_type": "markdown",
   "id": "6437ec3c",
   "metadata": {},
   "source": [
    "## Homework"
   ]
  },
  {
   "cell_type": "markdown",
   "id": "e7949256",
   "metadata": {},
   "source": [
    "### Exercise 8"
   ]
  },
  {
   "cell_type": "markdown",
   "id": "14ff9d39",
   "metadata": {},
   "source": [
    "Using the code from exercise 7 and math.sqrt function from math library, print a table that describe the differences between the estimation in each step and the value computed by math.sqrt function"
   ]
  },
  {
   "cell_type": "code",
   "execution_count": null,
   "id": "3651544b",
   "metadata": {},
   "outputs": [],
   "source": [
    "import math\n",
    "a = float(input())\n",
    "x = a/2\n",
    "i = 1\n",
    "print(\"Step  Value             Difference\")\n",
    "while abs(x-math.sqrt(a)) >= 10**(-8):\n",
    "    print('{:<6d}'.format(i),end='')\n",
    "    print('{:<18f}'.format(x),end='')\n",
    "    print('{:<2f}'.format(x-math.sqrt(a)))\n",
    "    x = x/2+a/(2*x)\n",
    "    i += 1\n",
    "print('{:<6d}'.format(i),end='')\n",
    "print('{:<18f}'.format(x),end='')\n",
    "print('{:<6f}'.format(x-math.sqrt(a)))"
   ]
  },
  {
   "cell_type": "code",
   "execution_count": null,
   "id": "8f6d680f",
   "metadata": {},
   "outputs": [],
   "source": []
  },
  {
   "cell_type": "code",
   "execution_count": null,
   "id": "fa65b806",
   "metadata": {},
   "outputs": [],
   "source": []
  }
 ],
 "metadata": {
  "kernelspec": {
   "display_name": "Python 3",
   "language": "python",
   "name": "python3"
  },
  "language_info": {
   "codemirror_mode": {
    "name": "ipython",
    "version": 3
   },
   "file_extension": ".py",
   "mimetype": "text/x-python",
   "name": "python",
   "nbconvert_exporter": "python",
   "pygments_lexer": "ipython3",
   "version": "3.9.5"
  }
 },
 "nbformat": 4,
 "nbformat_minor": 5
}
