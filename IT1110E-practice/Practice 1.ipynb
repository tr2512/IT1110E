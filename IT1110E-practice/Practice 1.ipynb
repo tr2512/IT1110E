{
 "cells": [
  {
   "cell_type": "markdown",
   "id": "95fe3442",
   "metadata": {},
   "source": [
    "# <font color=”blue”> Practice 1: Control flow </font>\n"
   ]
  },
  {
   "cell_type": "markdown",
   "id": "a9d9f87e",
   "metadata": {},
   "source": [
    "# Part 1. Conditional statements"
   ]
  },
  {
   "cell_type": "markdown",
   "id": "3bbafe9b",
   "metadata": {},
   "source": [
    "### Exercise 1"
   ]
  },
  {
   "cell_type": "markdown",
   "id": "d42c961f",
   "metadata": {},
   "source": [
    "Write a program to display the number of days in a month, given the month and the year\n",
    "\n"
   ]
  },
  {
   "cell_type": "code",
   "execution_count": 4,
   "id": "c3504376",
   "metadata": {},
   "outputs": [
    {
     "name": "stdout",
     "output_type": "stream",
     "text": [
      "2\n",
      "1800\n",
      "28\n"
     ]
    }
   ],
   "source": [
    "month = int(input())\n",
    "year = int(input())\n",
    "\n",
    "if month == 2:\n",
    "    if year % 100 == 0 and year % 400 != 0:\n",
    "        print(28)\n",
    "    elif year % 4 == 0:\n",
    "        print(29)\n",
    "    else:\n",
    "        print(28)\n",
    "elif month == 4 or month == 6 or month == 9 or month == 11:\n",
    "    print(30)\n",
    "else:\n",
    "    print(31)\n"
   ]
  },
  {
   "cell_type": "markdown",
   "id": "99a99517",
   "metadata": {},
   "source": [
    "### Exercise 2"
   ]
  },
  {
   "cell_type": "markdown",
   "id": "a34fc2a7",
   "metadata": {},
   "source": [
    "Write a program to determine if 3 distinct points create an acute, right, obtuse triangle or a straight line, given the coordinates of the points"
   ]
  },
  {
   "cell_type": "code",
   "execution_count": 10,
   "id": "435c1f2b",
   "metadata": {},
   "outputs": [
    {
     "name": "stdout",
     "output_type": "stream",
     "text": [
      "1 2 3 4 5 6\n",
      "Straight line\n"
     ]
    }
   ],
   "source": [
    "ax, ay, bx, by, cx, cy = [float(i) for i in input().split()]\n",
    "a = (ax-bx)**2+(ay-by)**2\n",
    "b = (bx-cx)**2+(by-cy)**2\n",
    "c = (ax-cx)**2+(ay-cy)**2\n",
    "if (bx-ax)*(cy-ay) == (cx-ax)*(by-ay):\n",
    "    print(\"Straight line\")\n",
    "elif a + b > c and b + c > a and c + a > b:\n",
    "    print(\"acute\")\n",
    "elif a + b == c or b + c == a or c + a == b:\n",
    "    print(\"right\")\n",
    "else:\n",
    "    print(\"obtuse\")"
   ]
  },
  {
   "cell_type": "markdown",
   "id": "713d9104",
   "metadata": {},
   "source": [
    "### Exercise 3"
   ]
  },
  {
   "cell_type": "markdown",
   "id": "84af097c",
   "metadata": {},
   "source": [
    "GrabBike's pricing in Hanoi is calculated as follow: for the first 2km, the customer will be charged VND 12,000 and for each next km, he will be charged VND 3,500. In addition, after the first 2km, the customer will be charged VND 350 for each minute travel.\n",
    "\n",
    "Given the distance and the average speed (assume that the speed is constant), calculate the amount of money that the customer has to pay"
   ]
  },
  {
   "cell_type": "code",
   "execution_count": null,
   "id": "1c933620",
   "metadata": {},
   "outputs": [],
   "source": [
    "distance = float(input())\n",
    "speed = float(input())\n",
    "#\n",
    "time = (distance-2)/speed\n",
    "if distance <= 2:\n",
    "    print(distance*12000)\n",
    "else:\n",
    "    print(2*12000 + 3500*(distance - 2) + time*350)"
   ]
  },
  {
   "cell_type": "markdown",
   "id": "d45c459c",
   "metadata": {},
   "source": [
    "# Part 2. Loops"
   ]
  },
  {
   "cell_type": "markdown",
   "id": "7075565e",
   "metadata": {},
   "source": [
    "### Exercise 4"
   ]
  },
  {
   "cell_type": "markdown",
   "id": "f94c5182",
   "metadata": {},
   "source": [
    "The Collatz conjecture is a conjecture in mathematics that concerns a sequence defined as follows: start with any positive integer n. If the previous term is even, the next term is one half of the previous term. If the previous term is odd, the next term is 3 times the previous term plus 1. The conjecture is that no matter what value of n, the sequence will always reach 1.\n",
    "\n",
    "For instance, starting with n = 12, one gets the sequence 12, 6, 3, 10, 5, 16, 8, 4, 2, 1.\n",
    "\n",
    "Given the starting number, print the value of all the numbers in its path to 1"
   ]
  },
  {
   "cell_type": "code",
   "execution_count": 16,
   "id": "342faddd",
   "metadata": {},
   "outputs": [
    {
     "name": "stdout",
     "output_type": "stream",
     "text": [
      "12\n",
      "12 6 3 10 5 16 8 4 2 1\n"
     ]
    }
   ],
   "source": [
    "n = int(input())\n",
    "while n != 1:\n",
    "    print(n, end=' ')\n",
    "    if n % 2 == 0:\n",
    "        n //= 2\n",
    "    else:\n",
    "        n = 3*n+1\n",
    "print(1)"
   ]
  },
  {
   "cell_type": "markdown",
   "id": "cfc7be54",
   "metadata": {},
   "source": [
    "### Exercise 5"
   ]
  },
  {
   "cell_type": "markdown",
   "id": "8e9bfa79",
   "metadata": {},
   "source": [
    "Write a program to check if an integer is a prime number or not\n",
    "\n"
   ]
  },
  {
   "cell_type": "code",
   "execution_count": 19,
   "id": "97141f6a",
   "metadata": {},
   "outputs": [
    {
     "name": "stdout",
     "output_type": "stream",
     "text": [
      "89\n",
      "TES\n"
     ]
    }
   ],
   "source": [
    "import math\n",
    "n = int(input())\n",
    "if n < 2:\n",
    "    print(\"NO\")\n",
    "elif n == 2:\n",
    "    print(\"YES\")\n",
    "else:\n",
    "    for i in range(2,int(math.sqrt(n))+1):\n",
    "        if n % i == 0:\n",
    "            print(\"NO\")\n",
    "            break\n",
    "    if n % i != 0:\n",
    "        print(\"YES\")\n",
    "    "
   ]
  },
  {
   "cell_type": "markdown",
   "id": "8c8667cc",
   "metadata": {},
   "source": [
    "### Exercise 6"
   ]
  },
  {
   "cell_type": "markdown",
   "id": "4648cf9f",
   "metadata": {},
   "source": [
    "Print a shape that looks like the one below, given the height\n",
    "\n"
   ]
  },
  {
   "cell_type": "code",
   "execution_count": 21,
   "id": "28329a5b",
   "metadata": {},
   "outputs": [
    {
     "name": "stdout",
     "output_type": "stream",
     "text": [
      "5\n",
      "____/\\____\n",
      "___/  \\___\n",
      "__/    \\__\n",
      "_/      \\_\n",
      "/        \\\n"
     ]
    }
   ],
   "source": [
    "n = int(input())\n",
    "for i in range(n):\n",
    "    print((n-1-i)*\"_\" + \"/\" + (2*i)*\" \" + \"\\\\\" + (n-1-i)*\"_\")"
   ]
  },
  {
   "cell_type": "markdown",
   "id": "b28fd70e",
   "metadata": {},
   "source": [
    "### Excrcise 7"
   ]
  },
  {
   "cell_type": "markdown",
   "id": "131bfac3",
   "metadata": {},
   "source": [
    "One way of computing square roots is Newton's method. Suppose that you want to know the square root of a. If you start with (almost) any estimate x, then you can get a better estimate with the formula: y = (x + a/x)/2\n",
    "\n",
    "Given a non-negative number a, compute the square root of that number using Newton's method with the precision of 0.0000001"
   ]
  },
  {
   "cell_type": "code",
   "execution_count": 24,
   "id": "44ed379c",
   "metadata": {},
   "outputs": [
    {
     "name": "stdout",
     "output_type": "stream",
     "text": [
      "64\n",
      "8.000000000000101\n"
     ]
    }
   ],
   "source": [
    "a = float(input())\n",
    "x = a/2\n",
    "while abs(x**2-a) >= 10**(-7):\n",
    "    x = x/2 + a/(2*x)\n",
    "print(x)"
   ]
  },
  {
   "cell_type": "markdown",
   "id": "f72c82b1",
   "metadata": {},
   "source": [
    "### Exercise 8"
   ]
  },
  {
   "cell_type": "markdown",
   "id": "d5d82d2e",
   "metadata": {},
   "source": [
    "Using the code from exercise 7 and math.sqrt function from math library, print a table that describe the differences between the estimation in each step and the value computed by math.sqrt function"
   ]
  },
  {
   "cell_type": "code",
   "execution_count": 13,
   "id": "7698b7d5",
   "metadata": {},
   "outputs": [
    {
     "name": "stdout",
     "output_type": "stream",
     "text": [
      "25\n",
      "Step  Value            Difference\n",
      "1     12.500000         7.500000\n",
      "2     7.250000         2.250000\n",
      "3     5.349138         0.349138\n",
      "4     5.011394         0.011394\n",
      "5     5.000013         0.000013\n"
     ]
    }
   ],
   "source": [
    "import math\n",
    "a = float(input())\n",
    "x = a/2\n",
    "i = 1\n",
    "print(\"Step  Value            Difference\")\n",
    "while abs(x**2-a) >= 10**(-7):\n",
    "    print(i,end=\"     \")\n",
    "    print(\"{:5f}\".format(x), end=\"         \")\n",
    "    print(\"{:5f}\".format(abs(x-math.sqrt(a))))\n",
    "    x = x/2+a/(2*x)\n",
    "    i += 1    "
   ]
  }
 ],
 "metadata": {
  "kernelspec": {
   "display_name": "Python 3",
   "language": "python",
   "name": "python3"
  },
  "language_info": {
   "codemirror_mode": {
    "name": "ipython",
    "version": 3
   },
   "file_extension": ".py",
   "mimetype": "text/x-python",
   "name": "python",
   "nbconvert_exporter": "python",
   "pygments_lexer": "ipython3",
   "version": "3.6.13"
  }
 },
 "nbformat": 4,
 "nbformat_minor": 5
}
