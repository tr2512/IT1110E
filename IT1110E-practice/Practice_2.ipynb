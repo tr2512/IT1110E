{
  "nbformat": 4,
  "nbformat_minor": 5,
  "metadata": {
    "kernelspec": {
      "display_name": "Python 3",
      "language": "python",
      "name": "python3"
    },
    "language_info": {
      "codemirror_mode": {
        "name": "ipython",
        "version": 3
      },
      "file_extension": ".py",
      "mimetype": "text/x-python",
      "name": "python",
      "nbconvert_exporter": "python",
      "pygments_lexer": "ipython3",
      "version": "3.6.13"
    },
    "colab": {
      "name": "Practice 2.ipynb",
      "provenance": [],
      "collapsed_sections": [],
      "include_colab_link": true
    }
  },
  "cells": [
    {
      "cell_type": "markdown",
      "metadata": {
        "id": "view-in-github",
        "colab_type": "text"
      },
      "source": [
        "<a href=\"https://colab.research.google.com/github/tr2512/IT1110E/blob/main/IT1110E-practice/Practice_2.ipynb\" target=\"_parent\"><img src=\"https://colab.research.google.com/assets/colab-badge.svg\" alt=\"Open In Colab\"/></a>"
      ]
    },
    {
      "cell_type": "markdown",
      "metadata": {
        "id": "3c6176e4"
      },
      "source": [
        "# <font color=”blue”> Practice 2: Functions </font>\n"
      ],
      "id": "3c6176e4"
    },
    {
      "cell_type": "markdown",
      "metadata": {
        "id": "8abfa910"
      },
      "source": [
        "# Part 1: Function"
      ],
      "id": "8abfa910"
    },
    {
      "cell_type": "markdown",
      "metadata": {
        "id": "10af6218"
      },
      "source": [
        "### Excercise 1"
      ],
      "id": "10af6218"
    },
    {
      "cell_type": "markdown",
      "metadata": {
        "id": "786cbdb3"
      },
      "source": [
        "In number theory, a perfect number is a positive integer that is equal to the sum of its proper positive divisors, that is, the sum of its positive divisors excluding the number itself. Write a function to check whether a number is a perfect number or not"
      ],
      "id": "786cbdb3"
    },
    {
      "cell_type": "code",
      "metadata": {
        "id": "8eeb0262"
      },
      "source": [
        "def is_perfect(n):\n",
        "    c = 0\n",
        "    for i in range(1,n//2+1):\n",
        "        if n % i == 0:\n",
        "            c += i\n",
        "    return c == n"
      ],
      "id": "8eeb0262",
      "execution_count": null,
      "outputs": []
    },
    {
      "cell_type": "markdown",
      "metadata": {
        "id": "23b315cf"
      },
      "source": [
        "### Excercise 2"
      ],
      "id": "23b315cf"
    },
    {
      "cell_type": "markdown",
      "metadata": {
        "id": "bb8dbd04"
      },
      "source": [
        "Write a Python function to print the first nth lines (n > 0) of the Pascal triangle. Note: you can define additional functions for better use\n",
        "\n"
      ],
      "id": "bb8dbd04"
    },
    {
      "cell_type": "code",
      "metadata": {
        "id": "27366f68"
      },
      "source": [
        "import math\n",
        "def combination(k,n):\n",
        "    return (math.factorial(n))/((math.factorial(k))*(math.factorial(n-k)))\n",
        "def pascal_triangle(n):\n",
        "    for i in range (n):\n",
        "        for j in range(i+1):\n",
        "            print('{:.0f}'.format(combination(j,i)),end=' ')\n",
        "        print('')"
      ],
      "id": "27366f68",
      "execution_count": null,
      "outputs": []
    },
    {
      "cell_type": "markdown",
      "metadata": {
        "id": "a82825e8"
      },
      "source": [
        "### Excercise 3"
      ],
      "id": "a82825e8"
    },
    {
      "cell_type": "markdown",
      "metadata": {
        "id": "1312e2ab"
      },
      "source": [
        "Write a function to print all the prime numbers less than a given number. Note: you can define additional functions for better use\n",
        "\n"
      ],
      "id": "1312e2ab"
    },
    {
      "cell_type": "code",
      "metadata": {
        "id": "6fd00e1b"
      },
      "source": [
        "import math\n",
        "def prime(n):\n",
        "    id = 0\n",
        "    if n < 2:\n",
        "        return False\n",
        "    elif n == 2:\n",
        "        return True\n",
        "    for i in range(2,int(math.sqrt(n)+1)):\n",
        "        if n % i == 0:\n",
        "            id = 1\n",
        "            break\n",
        "    return id == 0\n",
        "def print_prime(n):\n",
        "    for i in range(n):\n",
        "        if prime(i):\n",
        "            print(i)\n",
        "    "
      ],
      "id": "6fd00e1b",
      "execution_count": null,
      "outputs": []
    },
    {
      "cell_type": "markdown",
      "metadata": {
        "id": "feb3b001"
      },
      "source": [
        "### Excercise 4"
      ],
      "id": "feb3b001"
    },
    {
      "cell_type": "markdown",
      "metadata": {
        "id": "fa244aed"
      },
      "source": [
        "Write a function to find the greatest commmon divisor of 2 positive integers\n",
        "\n"
      ],
      "id": "fa244aed"
    },
    {
      "cell_type": "code",
      "metadata": {
        "id": "66b840d4"
      },
      "source": [
        "def GCD(a,b):\n",
        "    for i in reversed(range(1,a+1)):\n",
        "        if a % i == 0 and b % i == 0:\n",
        "            break\n",
        "    return i\n",
        "    "
      ],
      "id": "66b840d4",
      "execution_count": null,
      "outputs": []
    },
    {
      "cell_type": "markdown",
      "metadata": {
        "id": "56df57a5"
      },
      "source": [
        "# Part 2: Recursive function"
      ],
      "id": "56df57a5"
    },
    {
      "cell_type": "markdown",
      "metadata": {
        "id": "3be740c5"
      },
      "source": [
        "### Excercise 5"
      ],
      "id": "3be740c5"
    },
    {
      "cell_type": "markdown",
      "metadata": {
        "id": "41e17212"
      },
      "source": [
        "Write a recursive function to print the nth Fibonacci number, given a positve integer n. Assume that the 1st and the 2nd Fibonacci numbers are 1.\n",
        "\n"
      ],
      "id": "41e17212"
    },
    {
      "cell_type": "code",
      "metadata": {
        "id": "be58743b"
      },
      "source": [
        "def fibo(n):\n",
        "    if n == 1 or n == 2:\n",
        "        return 1\n",
        "    return fibo (n-1)+fibo(n-2)"
      ],
      "id": "be58743b",
      "execution_count": null,
      "outputs": []
    },
    {
      "cell_type": "markdown",
      "metadata": {
        "id": "26ee03ed"
      },
      "source": [
        "### Excercise 6"
      ],
      "id": "26ee03ed"
    },
    {
      "cell_type": "markdown",
      "metadata": {
        "id": "c4efc284"
      },
      "source": [
        "Write a recursive function to convert decimal number (positive integer) to string of binary number\n",
        "\n"
      ],
      "id": "c4efc284"
    },
    {
      "cell_type": "code",
      "metadata": {
        "id": "2a5c3c84"
      },
      "source": [
        "import math\n",
        "def dec_to_bin(n):\n",
        "    if n == 0:\n",
        "        return 0\n",
        "    a = int(math.log2(n))\n",
        "    return 10**(a) + dec_to_bin( n- 2**a)"
      ],
      "id": "2a5c3c84",
      "execution_count": null,
      "outputs": []
    },
    {
      "cell_type": "markdown",
      "metadata": {
        "id": "c4c44fa5"
      },
      "source": [
        "### Excercise 7"
      ],
      "id": "c4c44fa5"
    },
    {
      "cell_type": "markdown",
      "metadata": {
        "id": "0fda9abd"
      },
      "source": [
        "Write a recursive function to compute the sum of digits of a number\n",
        "\n"
      ],
      "id": "0fda9abd"
    },
    {
      "cell_type": "code",
      "metadata": {
        "id": "77869f6a"
      },
      "source": [
        "import math\n",
        "def sum_of_digit(n):\n",
        "    if n == 0:\n",
        "        return 0\n",
        "    a = int(math.log10(n))\n",
        "    if a == 0:\n",
        "        return n\n",
        "    x = n//(10**(int(a)))\n",
        "    return  x + sum_of_digit(n-x*10**a)"
      ],
      "id": "77869f6a",
      "execution_count": null,
      "outputs": []
    },
    {
      "cell_type": "markdown",
      "metadata": {
        "id": "312d08e2"
      },
      "source": [
        "### Excercise 8"
      ],
      "id": "312d08e2"
    },
    {
      "cell_type": "markdown",
      "metadata": {
        "id": "6bb56f66"
      },
      "source": [
        "Write a lambda function to return the sum of square of two numbers\n",
        "\n"
      ],
      "id": "6bb56f66"
    },
    {
      "cell_type": "code",
      "metadata": {
        "id": "b0a02672"
      },
      "source": [
        "import math\n",
        "sum_of_squares = lambda a,b: math.sqrt(a**2+b**2)\n"
      ],
      "id": "b0a02672",
      "execution_count": null,
      "outputs": []
    },
    {
      "cell_type": "markdown",
      "metadata": {
        "id": "897f7c50"
      },
      "source": [
        "### Excercise 9"
      ],
      "id": "897f7c50"
    },
    {
      "cell_type": "markdown",
      "metadata": {
        "id": "e0f4f81a"
      },
      "source": [
        "Write a lambda function to return the maximum of three numbers. Suggestion: use ternary condition in Python [do_this_if_true] if [condition] else [do_this_if_true]. For example:"
      ],
      "id": "e0f4f81a"
    },
    {
      "cell_type": "code",
      "metadata": {
        "id": "67eff42d"
      },
      "source": [
        "f = lambda a,b,c: a if a>b and a>c else b if b>a and b>c else c"
      ],
      "id": "67eff42d",
      "execution_count": null,
      "outputs": []
    },
    {
      "cell_type": "markdown",
      "metadata": {
        "id": "e452fc15"
      },
      "source": [
        "### Excercise 10"
      ],
      "id": "e452fc15"
    },
    {
      "cell_type": "markdown",
      "metadata": {
        "id": "1fd4c701"
      },
      "source": [
        "Write a lambda function to find the greatest commmon divisor of 2 positive integers. Suggestion: use recursive method; you can try to write normal function first and translate it into lambda function"
      ],
      "id": "1fd4c701"
    },
    {
      "cell_type": "code",
      "metadata": {
        "id": "fe83ab8c"
      },
      "source": [
        "gcd = lambda a, b: a if b == 0 else gcd(b,a%b)"
      ],
      "id": "fe83ab8c",
      "execution_count": null,
      "outputs": []
    },
    {
      "cell_type": "markdown",
      "metadata": {
        "id": "b2f20b2a"
      },
      "source": [
        "# Homework"
      ],
      "id": "b2f20b2a"
    },
    {
      "cell_type": "markdown",
      "metadata": {
        "id": "62618923"
      },
      "source": [
        "### Excercise 11"
      ],
      "id": "62618923"
    },
    {
      "cell_type": "markdown",
      "metadata": {
        "id": "f4730df5"
      },
      "source": [
        "Write a function to compare the speed of execution of the 2 Fibonacci functions in the exercise above using time library and time.time() function for n in the range of [x, y], given 2 positive integer x < y. Example: x = 30, y = 35"
      ],
      "id": "f4730df5"
    },
    {
      "cell_type": "code",
      "metadata": {
        "id": "c0117e39"
      },
      "source": [
        "import time\n",
        "def fibo_loop(n):\n",
        "    fibo = 0\n",
        "    a = 0\n",
        "    b = 1\n",
        "    if n == 0:\n",
        "        return 0\n",
        "    if n == 1:\n",
        "        return 1\n",
        "    for i in range(2,n+1):        \n",
        "        fibo = a + b\n",
        "        a = b\n",
        "        b = fibo\n",
        "    return fibo\n",
        "def fibo_recursion(n):\n",
        "    if n == 0:\n",
        "        return 0\n",
        "    if n == 1:\n",
        "        return 1\n",
        "    return fibo_recursion(n-1) + fibo_recursion(n-2)\n",
        "def fibo_compare(x,y):\n",
        "    print('Time using loop')\n",
        "    print('n    Result       Time ')\n",
        "    for i in range(x,y+1):\n",
        "        t = time.time()\n",
        "        fibo = fibo_loop(i)\n",
        "        print('{:<5d}''{:<13d}''{}'.format(i,fibo,time.time()-t))\n",
        "    print('\\nTime for recursion')\n",
        "    for i in range(x,y+1):\n",
        "        t = time.time()\n",
        "        fibo = fibo_recursion(i)\n",
        "        print('{:<5d}''{:<13d}''{}'.format(i,fibo,time.time()-t))\n"
      ],
      "id": "c0117e39",
      "execution_count": null,
      "outputs": []
    },
    {
      "cell_type": "code",
      "metadata": {
        "id": "NygOErjWTq1m"
      },
      "source": [
        ""
      ],
      "id": "NygOErjWTq1m",
      "execution_count": null,
      "outputs": []
    }
  ]
}