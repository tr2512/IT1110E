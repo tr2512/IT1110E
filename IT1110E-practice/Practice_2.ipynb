{
 "cells": [
  {
   "cell_type": "markdown",
   "metadata": {},
   "source": [
    "# Practice 2"
   ]
  },
  {
   "cell_type": "markdown",
   "metadata": {},
   "source": [
    "## Part 1: Functions"
   ]
  },
  {
   "cell_type": "markdown",
   "metadata": {},
   "source": [
    "### Exercise 1"
   ]
  },
  {
   "cell_type": "markdown",
   "metadata": {},
   "source": [
    "In number theory, a perfect number is a positive integer that is equal to the sum of its proper positive divisors, that is, the sum of its positive divisors excluding the number itself. Write a function to check whether a number is a perfect number or not\n",
    "\n"
   ]
  },
  {
   "cell_type": "code",
   "execution_count": 4,
   "metadata": {},
   "outputs": [],
   "source": [
    "def is_perfect(n):\n",
    "    sum = 0\n",
    "    for i in range (1, n//2 + 1):\n",
    "        if n % i == 0:\n",
    "            sum += i\n",
    "    return sum == n"
   ]
  },
  {
   "cell_type": "markdown",
   "metadata": {},
   "source": [
    "### Exercise 2"
   ]
  },
  {
   "cell_type": "markdown",
   "metadata": {},
   "source": [
    "Write a Python function to print the first nth lines (n > 0) of the Pascal triangle. Note: you can define additional functions for better use\n",
    "\n"
   ]
  },
  {
   "cell_type": "code",
   "execution_count": null,
   "metadata": {},
   "outputs": [],
   "source": [
    "def pascal_triangle(n):\n",
    "    lst = [[0]*i for i in range (1,n+1)]\n",
    "    for i in range (n):\n",
    "        for j in range (i+1):\n",
    "            if j == 0 or j == i:\n",
    "                lst[i][j] = 1\n",
    "            else:\n",
    "                lst[i][j] = lst[i-1][j-1] + lst[i-1][j]\n",
    "    for i in lst:\n",
    "        for j in i:\n",
    "            print(j, end=' ')\n",
    "        print('')\n",
    "    return None"
   ]
  },
  {
   "cell_type": "markdown",
   "metadata": {},
   "source": [
    "### Exercise 3"
   ]
  },
  {
   "cell_type": "code",
   "execution_count": null,
   "metadata": {},
   "outputs": [],
   "source": [
    "import math\n",
    "def is_prime(n):\n",
    "    lst = [True]*(n+1)\n",
    "    lst[0] = False\n",
    "    lst[1] = False\n",
    "    for i in range (2,int(math.sqrt(n))+1):\n",
    "        if lst[i] is True:\n",
    "            for j in range (i**2, n+1, i):\n",
    "                lst[j] = False\n",
    "    for i in range (2,len(lst)):\n",
    "        if lst[i] is True:\n",
    "            print(i, end = ' ')\n",
    "    return None"
   ]
  },
  {
   "cell_type": "markdown",
   "metadata": {},
   "source": [
    "### Exercise 4"
   ]
  },
  {
   "cell_type": "code",
   "execution_count": null,
   "metadata": {},
   "outputs": [],
   "source": [
    "def GCD(a,b):\n",
    "    while True:\n",
    "        if b == 0:\n",
    "            return a\n",
    "        c = a%b\n",
    "        a = b\n",
    "        b = c\n"
   ]
  },
  {
   "cell_type": "markdown",
   "metadata": {},
   "source": [
    "## Part 2: Recursive function"
   ]
  },
  {
   "cell_type": "markdown",
   "metadata": {},
   "source": [
    "### Exercise 5"
   ]
  },
  {
   "cell_type": "markdown",
   "metadata": {},
   "source": [
    "Write a recursive function to print the nth Fibonacci number, given a positve integer n. Assume that the 1st and the 2nd Fibonacci numbers are 1.\n",
    "\n"
   ]
  },
  {
   "cell_type": "code",
   "execution_count": 1,
   "metadata": {},
   "outputs": [],
   "source": [
    "def fibo(n):\n",
    "    if n == 1 or n == 2:\n",
    "        return 1\n",
    "    return fibo(n-1) + fibo(n-2)"
   ]
  },
  {
   "cell_type": "markdown",
   "metadata": {},
   "source": [
    "### Exercise 6"
   ]
  },
  {
   "cell_type": "markdown",
   "metadata": {},
   "source": [
    "Write a recursive function to convert decimal number (positive integer) to string of binary number\n",
    "\n"
   ]
  },
  {
   "cell_type": "code",
   "execution_count": null,
   "metadata": {},
   "outputs": [],
   "source": [
    "import math\n",
    "def dec_to_bin(n):\n",
    "    if n == 0:\n",
    "        return 0\n",
    "    i = int(math.log2(n))\n",
    "    return 10**i + dec_to_bin(n-2**i)"
   ]
  },
  {
   "cell_type": "markdown",
   "metadata": {},
   "source": [
    "### Exercise 7"
   ]
  },
  {
   "cell_type": "markdown",
   "metadata": {},
   "source": [
    "Write a recursive function to compute the sum of digits of a number\n",
    "\n"
   ]
  },
  {
   "cell_type": "code",
   "execution_count": 23,
   "metadata": {},
   "outputs": [
    {
     "data": {
      "text/plain": [
       "21"
      ]
     },
     "execution_count": 23,
     "metadata": {},
     "output_type": "execute_result"
    }
   ],
   "source": [
    "import math\n",
    "def sum_of_digit(n):\n",
    "    if n == 0:\n",
    "        return 0\n",
    "    return int(n%10) + sum_of_digit((n-n%10)/10)"
   ]
  },
  {
   "cell_type": "markdown",
   "metadata": {},
   "source": [
    "## Part 3: Lambda functions"
   ]
  },
  {
   "cell_type": "markdown",
   "metadata": {},
   "source": [
    "### Exercise 8"
   ]
  },
  {
   "cell_type": "markdown",
   "metadata": {},
   "source": [
    "Write a lambda function to return the sum of square of two numbers\n",
    "\n"
   ]
  },
  {
   "cell_type": "code",
   "execution_count": 18,
   "metadata": {},
   "outputs": [],
   "source": [
    "sum_of_squares = lambda a,b: a**2 + b**2"
   ]
  },
  {
   "cell_type": "markdown",
   "metadata": {},
   "source": [
    "### Exercise 9"
   ]
  },
  {
   "cell_type": "markdown",
   "metadata": {},
   "source": [
    "Write a lambda function to return the maximum of three numbers. Suggestion: use ternary condition in Python [do_this_if_true] if [condition] else [do_this_if_true]. For example:\n"
   ]
  },
  {
   "cell_type": "code",
   "execution_count": null,
   "metadata": {},
   "outputs": [],
   "source": [
    "f = lambda a,b,c: a if a>=b and a>=c else(b if b>=a and b>=c else c)\n",
    "f(4,5,2)"
   ]
  },
  {
   "cell_type": "markdown",
   "metadata": {},
   "source": [
    "### Exercise 10"
   ]
  },
  {
   "cell_type": "markdown",
   "metadata": {},
   "source": [
    "\n",
    "Write a lambda function to find the greatest commmon divisor of 2 positive integers. Suggestion: use recursive method; you can try to write normal function first and translate it into lambda function"
   ]
  },
  {
   "cell_type": "code",
   "execution_count": 1,
   "metadata": {},
   "outputs": [],
   "source": [
    "gcd = lambda a,b: a if b == 0 else gcd(b,a%b)"
   ]
  },
  {
   "cell_type": "markdown",
   "metadata": {},
   "source": [
    "## Homework"
   ]
  },
  {
   "cell_type": "markdown",
   "metadata": {},
   "source": [
    "### Exercise 11"
   ]
  },
  {
   "cell_type": "markdown",
   "metadata": {},
   "source": [
    "Write a function to compare the speed of execution of the 2 Fibonacci functions in the exercise above using time library and time.time() function for n in the range of [x, y], given 2 positive integer x < y. Example: x = 30, y = 35"
   ]
  },
  {
   "cell_type": "code",
   "execution_count": null,
   "metadata": {},
   "outputs": [],
   "source": [
    "import time\n",
    "def fibo_loop(n):\n",
    "    fibo = 0\n",
    "    a = 0\n",
    "    b = 1\n",
    "    if n == 0:\n",
    "        return 0\n",
    "    if n == 1:\n",
    "        return 1\n",
    "    for i in range(2,n+1):        \n",
    "        fibo = a + b\n",
    "        a = b\n",
    "        b = fibo\n",
    "    return fibo\n",
    "\n",
    "def fibo_recursion(n):\n",
    "    if n == 0:\n",
    "        return 0\n",
    "    if n == 1:\n",
    "        return 1\n",
    "    return fibo_recursion(n-1) + fibo_recursion(n-2)\n",
    "\n",
    "def fibo_compare(x,y):\n",
    "    print('Time using loop')\n",
    "    print('n    Result       Time ')\n",
    "    for i in range(x,y+1):\n",
    "        t = time.time()\n",
    "        fibo = fibo_loop(i)\n",
    "        print('{:<5}{:<13}{}'.format(i,fibo,time.time()-t))\n",
    "    print('\\nTime for recursion')\n",
    "    print('n    Result       Time ')\n",
    "    for i in range(x,y+1):\n",
    "        t = time.time()\n",
    "        fibo = fibo_recursion(i)\n",
    "        print('{:<5}{:<13}{}'.format(i,fibo,time.time()-t))"
   ]
  }
 ],
 "metadata": {
  "kernelspec": {
   "display_name": "Python 3",
   "language": "python",
   "name": "python3"
  },
  "language_info": {
   "codemirror_mode": {
    "name": "ipython",
    "version": 3
   },
   "file_extension": ".py",
   "mimetype": "text/x-python",
   "name": "python",
   "nbconvert_exporter": "python",
   "pygments_lexer": "ipython3",
   "version": "3.8.5"
  }
 },
 "nbformat": 4,
 "nbformat_minor": 5
}
