{
 "cells": [
  {
   "cell_type": "markdown",
   "id": "3c6176e4",
   "metadata": {},
   "source": [
    "# <font color=”blue”> Practice 2: Functions </font>\n"
   ]
  },
  {
   "cell_type": "markdown",
   "id": "8abfa910",
   "metadata": {},
   "source": [
    "# Part 1: Function"
   ]
  },
  {
   "cell_type": "markdown",
   "id": "10af6218",
   "metadata": {},
   "source": [
    "### Exercise 1"
   ]
  },
  {
   "cell_type": "markdown",
   "id": "786cbdb3",
   "metadata": {},
   "source": [
    "In number theory, a perfect number is a positive integer that is equal to the sum of its proper positive divisors, that is, the sum of its positive divisors excluding the number itself. Write a function to check whether a number is a perfect number or not"
   ]
  },
  {
   "cell_type": "code",
   "execution_count": 1,
   "id": "8eeb0262",
   "metadata": {},
   "outputs": [],
   "source": [
    "def is_perfect(n):\n",
    "    c = 0\n",
    "    for i in range(1,n//2+1):\n",
    "        if n % i == 0:\n",
    "            c += i\n",
    "    return c == n\n"
   ]
  },
  {
   "cell_type": "markdown",
   "id": "23b315cf",
   "metadata": {},
   "source": [
    "### Exercise 2"
   ]
  },
  {
   "cell_type": "markdown",
   "id": "bb8dbd04",
   "metadata": {},
   "source": [
    "Write a Python function to print the first nth lines (n > 0) of the Pascal triangle. Note: you can define additional functions for better use\n",
    "\n"
   ]
  },
  {
   "cell_type": "code",
   "execution_count": 2,
   "id": "27366f68",
   "metadata": {},
   "outputs": [],
   "source": [
    "import math\n",
    "def combination(k,n):\n",
    "    return (math.factorial(n))/((math.factorial(k))*(math.factorial(n-k)))\n",
    "def pascal_triangle(n):\n",
    "    print(1)\n",
    "    for i in range (2,n+1):\n",
    "        for j in range(i+1):\n",
    "            print('{:.0f}'.format(combination(j,i)),end=' ')\n",
    "        print('')\n"
   ]
  },
  {
   "cell_type": "markdown",
   "id": "a82825e8",
   "metadata": {},
   "source": [
    "### Exercise 3"
   ]
  },
  {
   "cell_type": "markdown",
   "id": "1312e2ab",
   "metadata": {},
   "source": [
    "Write a function to print all the prime numbers less than a given number. Note: you can define additional functions for better use\n",
    "\n"
   ]
  },
  {
   "cell_type": "code",
   "execution_count": 3,
   "id": "6fd00e1b",
   "metadata": {},
   "outputs": [],
   "source": [
    "import math\n",
    "def prime(n):\n",
    "    id = 0\n",
    "    if n < 2:\n",
    "        return False\n",
    "    elif n == 2:\n",
    "        return True\n",
    "    for i in range(2,int(math.sqrt(n)+1)):\n",
    "        if n % i == 0:\n",
    "            id = 1\n",
    "            break\n",
    "    return id == 0\n",
    "def print_prime(n):\n",
    "    for i in range(n):\n",
    "        if prime(i):\n",
    "            print(i)\n",
    "    "
   ]
  },
  {
   "cell_type": "markdown",
   "id": "feb3b001",
   "metadata": {},
   "source": [
    "### Exercise 4"
   ]
  },
  {
   "cell_type": "markdown",
   "id": "fa244aed",
   "metadata": {},
   "source": [
    "Write a function to find the greatest commmon divisor of 2 positive integers\n",
    "\n"
   ]
  },
  {
   "cell_type": "code",
   "execution_count": 1,
   "id": "66b840d4",
   "metadata": {},
   "outputs": [],
   "source": [
    "def GCD(a,b):\n",
    "    for i in reversed(range(1,a+1)):\n",
    "        if a % i == 0 and b % i == 0:\n",
    "            break\n",
    "    return i\n",
    "    "
   ]
  },
  {
   "cell_type": "markdown",
   "id": "56df57a5",
   "metadata": {},
   "source": [
    "# Part 2: Recursive function"
   ]
  },
  {
   "cell_type": "markdown",
   "id": "3be740c5",
   "metadata": {},
   "source": [
    "### Exercise 5"
   ]
  },
  {
   "cell_type": "markdown",
   "id": "41e17212",
   "metadata": {},
   "source": [
    "Write a recursive function to print the nth Fibonacci number, given a positve integer n. Assume that the 1st and the 2nd Fibonacci numbers are 1.\n",
    "\n"
   ]
  },
  {
   "cell_type": "code",
   "execution_count": 6,
   "id": "be58743b",
   "metadata": {},
   "outputs": [],
   "source": [
    "def fibo(n):\n",
    "    if n == 1 or n == 2:\n",
    "        print(1)\n",
    "    return fibo (n-1)+fibo(n-2)"
   ]
  },
  {
   "cell_type": "markdown",
   "id": "26ee03ed",
   "metadata": {},
   "source": [
    "### Exercise 6"
   ]
  },
  {
   "cell_type": "markdown",
   "id": "c4efc284",
   "metadata": {},
   "source": [
    "Write a recursive function to convert decimal number (positive integer) to string of binary number\n",
    "\n"
   ]
  },
  {
   "cell_type": "code",
   "execution_count": 1,
   "id": "2a5c3c84",
   "metadata": {},
   "outputs": [],
   "source": [
    "import math\n",
    "def dec_to_bin(n):\n",
    "    if n == 0:\n",
    "        return 0\n",
    "    a = math.log2(n)\n",
    "    if n - 2**(int(a)) >=0:\n",
    "        return 10**(int(a)) + dec_to_bin( n- 2**(int(a)))"
   ]
  },
  {
   "cell_type": "markdown",
   "id": "c4c44fa5",
   "metadata": {},
   "source": [
    "### Exercise 7"
   ]
  },
  {
   "cell_type": "markdown",
   "id": "0fda9abd",
   "metadata": {},
   "source": [
    "Write a recursive function to compute the sum of digits of a number\n",
    "\n"
   ]
  },
  {
   "cell_type": "code",
   "execution_count": 2,
   "id": "77869f6a",
   "metadata": {},
   "outputs": [],
   "source": [
    "import math\n",
    "def sum_of_digit(n):\n",
    "    if n == 0:\n",
    "        return 0\n",
    "    a = math.log10(n)\n",
    "    if int(a) == 0:\n",
    "        return n\n",
    "    x = n//(10**(int(a)))\n",
    "    return  x + sum_of_digit(n-x*10**(int(a)))"
   ]
  },
  {
   "cell_type": "markdown",
   "id": "312d08e2",
   "metadata": {},
   "source": [
    "### Exercise 8"
   ]
  },
  {
   "cell_type": "markdown",
   "id": "6bb56f66",
   "metadata": {},
   "source": [
    "Write a lambda function to return the sum of square of two numbers\n",
    "\n"
   ]
  },
  {
   "cell_type": "code",
   "execution_count": 4,
   "id": "b0a02672",
   "metadata": {},
   "outputs": [],
   "source": [
    "import math\n",
    "sum_of_squares = lambda a,b: math.sqrt(a**2+b**2)\n"
   ]
  },
  {
   "cell_type": "markdown",
   "id": "897f7c50",
   "metadata": {},
   "source": [
    "### Exercise 9"
   ]
  },
  {
   "cell_type": "markdown",
   "id": "e0f4f81a",
   "metadata": {},
   "source": [
    "Write a lambda function to return the maximum of three numbers. Suggestion: use ternary condition in Python [do_this_if_true] if [condition] else [do_this_if_true]. For example:"
   ]
  },
  {
   "cell_type": "code",
   "execution_count": 5,
   "id": "67eff42d",
   "metadata": {},
   "outputs": [],
   "source": [
    "f = lambda a,b,c: a if a>b and a>c else b if b>a and b>c else c"
   ]
  },
  {
   "cell_type": "markdown",
   "id": "e452fc15",
   "metadata": {},
   "source": [
    "### Exercise 10"
   ]
  },
  {
   "cell_type": "markdown",
   "id": "1fd4c701",
   "metadata": {},
   "source": [
    "Write a lambda function to find the greatest commmon divisor of 2 positive integers. Suggestion: use recursive method; you can try to write normal function first and translate it into lambda function"
   ]
  },
  {
   "cell_type": "code",
   "execution_count": 2,
   "id": "fe83ab8c",
   "metadata": {},
   "outputs": [],
   "source": [
    "gcd = lambda a, b: a if b == 0 else gcd(b,a%b)"
   ]
  },
  {
   "cell_type": "markdown",
   "id": "b2f20b2a",
   "metadata": {},
   "source": [
    "# Homework"
   ]
  },
  {
   "cell_type": "markdown",
   "id": "62618923",
   "metadata": {},
   "source": [
    "### Exercise 11"
   ]
  },
  {
   "cell_type": "markdown",
   "id": "f4730df5",
   "metadata": {},
   "source": [
    "Write a function to compare the speed of execution of the 2 Fibonacci functions in the exercise above using time library and time.time() function for n in the range of [x, y], given 2 positive integer x < y. Example: x = 30, y = 35"
   ]
  },
  {
   "cell_type": "code",
   "execution_count": null,
   "id": "c0117e39",
   "metadata": {},
   "outputs": [],
   "source": []
  }
 ],
 "metadata": {
  "kernelspec": {
   "display_name": "Python 3",
   "language": "python",
   "name": "python3"
  },
  "language_info": {
   "codemirror_mode": {
    "name": "ipython",
    "version": 3
   },
   "file_extension": ".py",
   "mimetype": "text/x-python",
   "name": "python",
   "nbconvert_exporter": "python",
   "pygments_lexer": "ipython3",
   "version": "3.6.13"
  }
 },
 "nbformat": 4,
 "nbformat_minor": 5
}
