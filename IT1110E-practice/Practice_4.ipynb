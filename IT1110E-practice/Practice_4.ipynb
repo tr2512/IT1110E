{
 "cells": [
  {
   "cell_type": "markdown",
   "id": "8c1802b4",
   "metadata": {},
   "source": [
    "# Practice 4: Modules and files"
   ]
  },
  {
   "cell_type": "markdown",
   "id": "36972aca",
   "metadata": {},
   "source": [
    "## Part 1: Commonly used modules"
   ]
  },
  {
   "cell_type": "markdown",
   "id": "a92dd5f8",
   "metadata": {},
   "source": [
    "### Exercise 1"
   ]
  },
  {
   "cell_type": "markdown",
   "id": "075f9a60",
   "metadata": {},
   "source": [
    "Generate the numpy matrix in the fastest way possible, using np.arange(). Note: do not manually write down each element, and the solution should not exceed two lines\n",
    "\n",
    "[[ 1  6 11 16  2] <br/>\n",
    " [ 7 12 17  3  8] <br/>\n",
    " [13 18  4  9 14] <br/>\n",
    " [19  5 10 15 20]]"
   ]
  },
  {
   "cell_type": "code",
   "execution_count": null,
   "id": "d8940d73",
   "metadata": {},
   "outputs": [],
   "source": [
    "import numpy as np\n",
    "print(np.arange(1,21))\n",
    "print(np.arange(1,21).reshape(5,4,order = 'f'))\n",
    "print(np.arange(1,21).reshape(5,4,order = 'f').reshape(4,5))"
   ]
  },
  {
   "cell_type": "markdown",
   "id": "d16ba6b9",
   "metadata": {},
   "source": [
    "## Exercise 2"
   ]
  },
  {
   "cell_type": "markdown",
   "id": "16fc8551",
   "metadata": {},
   "source": [
    "Write a function to convert the numpy matrix into percentage matrix: each element in a line is converted into its percentage of the sum of elements in that line (no need for rounding)"
   ]
  },
  {
   "cell_type": "code",
   "execution_count": null,
   "id": "1b92cea6",
   "metadata": {},
   "outputs": [],
   "source": [
    "import numpy as np\n",
    "def convert(a):\n",
    "    return a/np.sum(a, axis = 1, keepdims = True)\n",
    "x = np.array([[1,2,4],[3,1,4],[1,5,6]])\n",
    "convert(x)"
   ]
  },
  {
   "cell_type": "markdown",
   "id": "21e47178",
   "metadata": {},
   "source": [
    "### Exercise 3"
   ]
  },
  {
   "cell_type": "markdown",
   "id": "88dd0756",
   "metadata": {},
   "source": [
    "Solve the system of linear equation Ax = b, knowing the augmented matrix [A|b]. It is guarantee that the system of linear equation has n equations, n variables and a single solution"
   ]
  },
  {
   "cell_type": "code",
   "execution_count": null,
   "id": "5bb28327",
   "metadata": {},
   "outputs": [],
   "source": [
    "import numpy as np\n",
    "def system_solver(a):\n",
    "    X = a[:,:len(a[0])-1]\n",
    "    y = a[:,-1]\n",
    "    return np.linalg.solve(X,y).reshape(len(a),1)     \n",
    "def system_solver1(a):\n",
    "    slt = [0 for i in range (len(a))]\n",
    "    for i in range (len(a)):\n",
    "        a[i].append(b[i])\n",
    "    for i in range (len(a)):\n",
    "        for j in range(i+1,len(a)):\n",
    "            for k in range(len(a[0])):\n",
    "                a[j][k] = a[j][i]*a[i][k]-a[i][i]*a[j][k]\n",
    "    for i in range (len(a)):\n",
    "        slt[i] = a[-i-1][-1]\n",
    "        for j in range (i):\n",
    "            slt[i] -= slt[j]*a[-i-1][-i-1]\n",
    "        slt[i] /= a[-1-i][-i-2]\n",
    "    return slt.reverse()"
   ]
  },
  {
   "cell_type": "markdown",
   "id": "f4ebd4c0",
   "metadata": {},
   "source": [
    "### Exercise 4"
   ]
  },
  {
   "cell_type": "markdown",
   "id": "aee77352",
   "metadata": {},
   "source": [
    "Plot the function y = sin(2x) and y = cos(2x) in the range [-4, 4] on the same plot as below using matplotlib\n",
    "\n"
   ]
  },
  {
   "cell_type": "code",
   "execution_count": null,
   "id": "862af61e",
   "metadata": {},
   "outputs": [],
   "source": [
    "import matplotlib.pyplot as plt\n",
    "import numpy as np\n",
    "x = np.arange(-4,4,0.01)\n",
    "y = np.sin(2*x)\n",
    "z = np.cos(2*x)\n",
    "plt.plot(x,y,color = 'blue')\n",
    "plt.plot(x,z,color = 'red')\n",
    "plt.show()"
   ]
  },
  {
   "cell_type": "markdown",
   "id": "4dfc18d1",
   "metadata": {},
   "source": [
    "## Part 2: Modularize a Python program"
   ]
  },
  {
   "cell_type": "markdown",
   "id": "64f175d3",
   "metadata": {},
   "source": [
    "### Exercise 5"
   ]
  },
  {
   "cell_type": "markdown",
   "id": "a7cb8ccf",
   "metadata": {},
   "source": [
    "Write a module that contains the constant pi and implementations of these mathematics function: exp, sin, cos using Maclaurin series. The result should be computed with 9 exact decimal places and rounded to 6 digits after the comma. Note: you should implement your own function, and do not use function from other libraries\n",
    "\n",
    "The module will be used for testing later"
   ]
  },
  {
   "cell_type": "markdown",
   "id": "3372bda7",
   "metadata": {},
   "source": [
    "Module name: trig.py"
   ]
  },
  {
   "cell_type": "markdown",
   "id": "02cc9216",
   "metadata": {},
   "source": [
    "### Exercise 6"
   ]
  },
  {
   "cell_type": "code",
   "execution_count": 15,
   "id": "7ae4e66f",
   "metadata": {},
   "outputs": [
    {
     "name": "stdout",
     "output_type": "stream",
     "text": [
      "24\n",
      "Your own implementation:     0.242187\n",
      "Math module implementation:  0.242190\n"
     ]
    }
   ],
   "source": [
    "import trig\n",
    "import math\n",
    "n = float(input())\n",
    "a = 0\n",
    "b = 0\n",
    "for i in range (1,21):\n",
    "    if i % 2 == 0:\n",
    "        a += trig.cosine(n+i)\n",
    "        b += round(math.cos(n+i),6)\n",
    "    else:\n",
    "        a += trig.sine(n+i)\n",
    "        b += round(math.sin(n+i),6)\n",
    "print('Your own implementation:     %f' % round(a,6))\n",
    "print('Math module implementation:  %f' % round(b,6))\n"
   ]
  },
  {
   "cell_type": "markdown",
   "id": "e0356795",
   "metadata": {},
   "source": [
    "## Part 3: Files"
   ]
  },
  {
   "cell_type": "markdown",
   "id": "f3be81c3",
   "metadata": {},
   "source": [
    "### Exercise 7"
   ]
  },
  {
   "cell_type": "code",
   "execution_count": 11,
   "id": "e3bedfc9",
   "metadata": {},
   "outputs": [
    {
     "name": "stdout",
     "output_type": "stream",
     "text": [
      "{'This': 3, 'is': 3, 'a': 1, 'sentence\\n': 3, 'the': 2, 'second': 1, 'last': 1}\n"
     ]
    }
   ],
   "source": [
    "with open('test.inp') as f:\n",
    "    d = {}\n",
    "    for line in f:\n",
    "        lst = line.split(' ')\n",
    "        for i in lst:\n",
    "            if i not in d:\n",
    "                d[i] = 1\n",
    "            else:\n",
    "                d[i] += 1\n",
    "with open('test.out','w') as f:\n",
    "    f.write(str(d))\n",
    "with open('test.out', 'r') as f:\n",
    "    all = f.read()\n",
    "    print(all)"
   ]
  },
  {
   "cell_type": "markdown",
   "id": "43dfabeb",
   "metadata": {},
   "source": [
    "### Exercise 8"
   ]
  },
  {
   "cell_type": "code",
   "execution_count": 14,
   "id": "cc0bb581",
   "metadata": {},
   "outputs": [
    {
     "name": "stdout",
     "output_type": "stream",
     "text": [
      "1 2 3\n",
      "4 5 6\n",
      "[5, 7, 9]\n"
     ]
    }
   ],
   "source": [
    "import pickle\n",
    "a = [int(i) for i in input().split()]\n",
    "b = [int(i) for i in input().split()]\n",
    "f = open('list.pkl','wb')\n",
    "pickle.dump((a,b),f)\n",
    "f.close()\n",
    "with open('list.pkl', 'rb') as f:\n",
    "    c, d = pickle.load(f)\n",
    "    result = [i + j for i, j in zip(c, d)]\n",
    "    print(result)"
   ]
  },
  {
   "cell_type": "markdown",
   "id": "34a8a930",
   "metadata": {},
   "source": [
    "### Exercise 9"
   ]
  },
  {
   "cell_type": "code",
   "execution_count": 20,
   "id": "d10b177c",
   "metadata": {},
   "outputs": [],
   "source": [
    "def add_student_info(new):\n",
    "    if 'id' not in new:\n",
    "        return None\n",
    "    with open('student_info.pkl', 'rb') as f:\n",
    "        x = pickle.load(f)\n",
    "    f.close()\n",
    "    duplicate = False\n",
    "    for i in x:\n",
    "        if i['id'] == new['id']:\n",
    "            x[x.index(i)] = new\n",
    "            break\n",
    "    else:\n",
    "        x.append(new)\n",
    "    with open('updated_info.pkl', 'wb') as f:\n",
    "        pickle.dump(x, f)\n",
    "    f.close()"
   ]
  },
  {
   "cell_type": "code",
   "execution_count": null,
   "id": "597cb55e",
   "metadata": {},
   "outputs": [],
   "source": []
  }
 ],
 "metadata": {
  "kernelspec": {
   "display_name": "Python 3",
   "language": "python",
   "name": "python3"
  },
  "language_info": {
   "codemirror_mode": {
    "name": "ipython",
    "version": 3
   },
   "file_extension": ".py",
   "mimetype": "text/x-python",
   "name": "python",
   "nbconvert_exporter": "python",
   "pygments_lexer": "ipython3",
   "version": "3.9.5"
  }
 },
 "nbformat": 4,
 "nbformat_minor": 5
}
