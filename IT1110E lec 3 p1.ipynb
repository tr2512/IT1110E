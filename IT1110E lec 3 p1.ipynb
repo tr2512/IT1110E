{
 "cells": [
  {
   "cell_type": "markdown",
   "id": "74a7bbdc",
   "metadata": {},
   "source": [
    "Lec 3. Function (Part 1)"
   ]
  },
  {
   "cell_type": "markdown",
   "id": "ddb26ede",
   "metadata": {},
   "source": [
    "Problem 1"
   ]
  },
  {
   "cell_type": "code",
   "execution_count": 6,
   "id": "26cddde6",
   "metadata": {},
   "outputs": [],
   "source": [
    "def friendly(a,b):\n",
    "    c = 0\n",
    "    d = 0\n",
    "    if a == 1 and b==1:\n",
    "        return \"YES\"\n",
    "    if a <= 1 or b <= 1:\n",
    "        return \"NO\"\n",
    "    for i in range(1,a):\n",
    "        if a % i == 0:\n",
    "            c += i\n",
    "    for i in range(1,b):\n",
    "        if b % i == 0:\n",
    "            d += i\n",
    "    if a == d and b == c:\n",
    "        return \"YES\"\n",
    "    return \"NO\""
   ]
  },
  {
   "cell_type": "markdown",
   "id": "34a53a78",
   "metadata": {},
   "source": [
    "Problem 2"
   ]
  },
  {
   "cell_type": "code",
   "execution_count": 13,
   "id": "350e9780",
   "metadata": {},
   "outputs": [],
   "source": [
    "def digit_sum_greater(a,b):\n",
    "    a = str(a)\n",
    "    b = str(b)\n",
    "    c = 0\n",
    "    d = 0\n",
    "    for i in range(len(a)):\n",
    "        c += int(a[i])\n",
    "    for i in range(len(b)):\n",
    "        d += int(b[i])\n",
    "    if c > d:\n",
    "        return \"YES\"\n",
    "    return \"NO\""
   ]
  },
  {
   "cell_type": "markdown",
   "id": "59a7628e",
   "metadata": {},
   "source": [
    "Problem 3"
   ]
  },
  {
   "cell_type": "code",
   "execution_count": 14,
   "id": "91ecd64f",
   "metadata": {},
   "outputs": [],
   "source": [
    "def reverse(n):\n",
    "    n = str(n)\n",
    "    print(n[::-1])"
   ]
  },
  {
   "cell_type": "markdown",
   "id": "3ad85cff",
   "metadata": {},
   "source": [
    "Problem 4:"
   ]
  },
  {
   "cell_type": "code",
   "execution_count": 12,
   "id": "7fb19936",
   "metadata": {},
   "outputs": [],
   "source": [
    "def calculate(n):\n",
    "    if n == 0:\n",
    "        return 0\n",
    "    if n == 1:\n",
    "        return 1\n",
    "    a = 0\n",
    "    b = 1\n",
    "    c = 0\n",
    "    for i in range(2,n+1):\n",
    "        c = 2*b+a\n",
    "        a = b\n",
    "        b = c\n",
    "    return c"
   ]
  },
  {
   "cell_type": "code",
   "execution_count": 11,
   "id": "f4962d23",
   "metadata": {},
   "outputs": [],
   "source": [
    "def calculate(n):\n",
    "    if n == 0:\n",
    "        return 0\n",
    "    if n == 1:\n",
    "        return 1\n",
    "    return 2*calculate(n-1)+calculate(n-2)"
   ]
  },
  {
   "cell_type": "markdown",
   "id": "a2f4c216",
   "metadata": {},
   "source": [
    "Problem 5"
   ]
  },
  {
   "cell_type": "code",
   "execution_count": 28,
   "id": "68437633",
   "metadata": {},
   "outputs": [],
   "source": [
    "def floyd(n):\n",
    "    c=\"\"\n",
    "    for i in range(n):\n",
    "        if i % 2 == 0:\n",
    "            c = \"1\"+c\n",
    "        else:\n",
    "            c = \"0\"+c\n",
    "        print(c)"
   ]
  }
 ],
 "metadata": {
  "kernelspec": {
   "display_name": "Python 3",
   "language": "python",
   "name": "python3"
  },
  "language_info": {
   "codemirror_mode": {
    "name": "ipython",
    "version": 3
   },
   "file_extension": ".py",
   "mimetype": "text/x-python",
   "name": "python",
   "nbconvert_exporter": "python",
   "pygments_lexer": "ipython3",
   "version": "3.6.13"
  }
 },
 "nbformat": 4,
 "nbformat_minor": 5
}
