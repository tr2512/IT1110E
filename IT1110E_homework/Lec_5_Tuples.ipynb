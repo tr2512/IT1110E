{
  "nbformat": 4,
  "nbformat_minor": 0,
  "metadata": {
    "colab": {
      "name": "Lec 5. Tuples",
      "provenance": [],
      "collapsed_sections": [],
      "authorship_tag": "ABX9TyNL/tnKMOySo1sMDo5Kp0Wx",
      "include_colab_link": true
    },
    "kernelspec": {
      "name": "python3",
      "display_name": "Python 3"
    },
    "language_info": {
      "name": "python"
    }
  },
  "cells": [
    {
      "cell_type": "markdown",
      "metadata": {
        "id": "view-in-github",
        "colab_type": "text"
      },
      "source": [
        "<a href=\"https://colab.research.google.com/github/tr2512/IT1110E/blob/main/IT1110E_homework/Lec_5_Tuples.ipynb\" target=\"_parent\"><img src=\"https://colab.research.google.com/assets/colab-badge.svg\" alt=\"Open In Colab\"/></a>"
      ]
    },
    {
      "cell_type": "markdown",
      "metadata": {
        "id": "2aXBuOzF4fC4"
      },
      "source": [
        "### Question 1"
      ]
    },
    {
      "cell_type": "code",
      "metadata": {
        "id": "qvsRh41t4bF7",
        "colab": {
          "base_uri": "https://localhost:8080/"
        },
        "outputId": "add9afa0-c156-41f7-b851-e1bf73d7bad5"
      },
      "source": [
        "def is_float(x):\n",
        "    for i in x:\n",
        "        if i.replace('.','',1).isdigit():\n",
        "            return float(i)\n",
        "\n",
        "def sort_tuple(tpl):\n",
        "    tpl.sort(reverse = True, key = is_float)\n",
        "    return tpl\n",
        "sort_tuple([('lucky', '18.265'), ('nikhil', '14.107'), ('akash', '24.541'), ('anand', '4.256'), ('gaurav', '10.365')])\n",
        "# Solution is wrong (unknown reason)"
      ],
      "execution_count": null,
      "outputs": [
        {
          "output_type": "execute_result",
          "data": {
            "text/plain": [
              "[('akash', '24.541'),\n",
              " ('lucky', '18.265'),\n",
              " ('nikhil', '14.107'),\n",
              " ('gaurav', '10.365'),\n",
              " ('anand', '4.256')]"
            ]
          },
          "metadata": {
            "tags": []
          },
          "execution_count": 1
        }
      ]
    },
    {
      "cell_type": "code",
      "metadata": {
        "id": "SSEia_sCBCO4",
        "colab": {
          "base_uri": "https://localhost:8080/"
        },
        "outputId": "5c92e189-5a94-4cb5-d9f4-6f9359b40ca7"
      },
      "source": [
        "def sort_tuple(tup):\n",
        "    tup.sort(key = lambda x: float(x[1]), reverse = True)\n",
        "    return tup \n",
        "sort_tuple([('lucky', '18.265'), ('nikhil', '14.107'), ('akash', '24.541'), ('anand', '4.256'), ('gaurav', '10.365')])"
      ],
      "execution_count": null,
      "outputs": [
        {
          "output_type": "execute_result",
          "data": {
            "text/plain": [
              "[('akash', '24.541'),\n",
              " ('lucky', '18.265'),\n",
              " ('nikhil', '14.107'),\n",
              " ('gaurav', '10.365'),\n",
              " ('anand', '4.256')]"
            ]
          },
          "metadata": {
            "tags": []
          },
          "execution_count": 2
        }
      ]
    },
    {
      "cell_type": "markdown",
      "metadata": {
        "id": "EvSjgnb9CKsy"
      },
      "source": [
        "### Problem 2"
      ]
    },
    {
      "cell_type": "code",
      "metadata": {
        "id": "seO8Y97dCLzN"
      },
      "source": [
        "def sum_and_count(inp):\n",
        "    sums = []\n",
        "    counts = []\n",
        "    for i in inp:\n",
        "        if type(i) is int:\n",
        "            sums.append(i)\n",
        "            counts.append(1)\n",
        "        else:\n",
        "            sums.append(sum(i))\n",
        "            counts.append(len(i))\n",
        "    return sums, counts"
      ],
      "execution_count": null,
      "outputs": []
    },
    {
      "cell_type": "markdown",
      "metadata": {
        "id": "AnRJf7V5FabY"
      },
      "source": [
        "### Problem 3"
      ]
    },
    {
      "cell_type": "code",
      "metadata": {
        "id": "vnsaEuC7Fbow"
      },
      "source": [
        "def tup2num(tup):\n",
        "    x =''\n",
        "    for i in tup:\n",
        "        x += str(i)\n",
        "    return x"
      ],
      "execution_count": null,
      "outputs": []
    },
    {
      "cell_type": "markdown",
      "metadata": {
        "id": "kF9M9rw0GbeP"
      },
      "source": [
        "### Problem 4"
      ]
    },
    {
      "cell_type": "code",
      "metadata": {
        "id": "2_ElOaC_Gdhx"
      },
      "source": [
        "def closest_tuple(tupple_list, query, k):\n",
        "    a = query[k-1]\n",
        "    min = abs(a)\n",
        "    for i in tupple_list:\n",
        "        u = abs(i[k-1]-a)\n",
        "        if u < min:\n",
        "            min = u\n",
        "            j   = i\n",
        "    return j"
      ],
      "execution_count": null,
      "outputs": []
    },
    {
      "cell_type": "markdown",
      "metadata": {
        "id": "y0EgASIIIVQn"
      },
      "source": [
        "### Problem 5"
      ]
    },
    {
      "cell_type": "code",
      "metadata": {
        "id": "vS1je8VfIU1o"
      },
      "source": [
        "list_1 = eval(input())\n",
        "list_2 = eval(input())\n",
        "a = []\n",
        "b = []\n",
        "for i in list_1:\n",
        "    a.append(sorted(i))\n",
        "for j in list_2:\n",
        "    b.append(sorted(j))\n",
        "count = 0\n",
        "for i in a:\n",
        "    for j in b:\n",
        "        if i == j:\n",
        "            count += 1\n",
        "            break\n",
        "print(count)\n"
      ],
      "execution_count": null,
      "outputs": []
    }
  ]
}