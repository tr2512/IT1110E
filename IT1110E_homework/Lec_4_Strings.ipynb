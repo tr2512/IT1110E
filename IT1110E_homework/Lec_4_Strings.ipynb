{
  "nbformat": 4,
  "nbformat_minor": 0,
  "metadata": {
    "colab": {
      "name": "Lec 4. Strings",
      "provenance": [],
      "collapsed_sections": []
    },
    "kernelspec": {
      "name": "python3",
      "display_name": "Python 3"
    },
    "language_info": {
      "name": "python"
    }
  },
  "cells": [
    {
      "cell_type": "markdown",
      "metadata": {
        "id": "u-y3D6Uh_grA"
      },
      "source": [
        "### Problem 1"
      ]
    },
    {
      "cell_type": "code",
      "metadata": {
        "id": "0fkNarTu-oKR"
      },
      "source": [
        "def to_uppercase(x):\n",
        "    count = 0\n",
        "    c = 0\n",
        "    i = -1\n",
        "    while True:\n",
        "        i += 1\n",
        "        if x[i] == ' ':\n",
        "            continue\n",
        "        if x[i].isupper():\n",
        "            count += 1\n",
        "        c += 1\n",
        "        if c == 4:\n",
        "            break\n",
        "    if count >= 2:\n",
        "        return x.upper()\n",
        "    return x"
      ],
      "execution_count": null,
      "outputs": []
    },
    {
      "cell_type": "markdown",
      "metadata": {
        "id": "T7tXvfdOOWid"
      },
      "source": [
        "### Problem 2"
      ]
    },
    {
      "cell_type": "code",
      "metadata": {
        "id": "nz3AaihWOY_M"
      },
      "source": [
        "def reverse_string(x,n = -1):\n",
        "    if -n-1 == len(x):\n",
        "        return ''\n",
        "    return x[n] + reverse_string(x,n-1)"
      ],
      "execution_count": null,
      "outputs": []
    },
    {
      "cell_type": "markdown",
      "metadata": {
        "id": "bVhnymW1PUV9"
      },
      "source": [
        "### Problem 3"
      ]
    },
    {
      "cell_type": "code",
      "metadata": {
        "id": "GBz7O6qLPViq"
      },
      "source": [
        "import math\n",
        "def combination(i,n):\n",
        "    return math.factorial(n)/(math.factorial(n-i)*math.factorial(i))\n",
        "def substrings_count(x):\n",
        "    sum = len(x)\n",
        "    for i in x:\n",
        "        a = x.count(i)\n",
        "        if a >= 2:\n",
        "            sum += combination(2,a)/a\n",
        "    return int(sum)"
      ],
      "execution_count": null,
      "outputs": []
    },
    {
      "cell_type": "markdown",
      "metadata": {
        "id": "MzaS2ucrTVgi"
      },
      "source": [
        "### Problem 4"
      ]
    },
    {
      "cell_type": "code",
      "metadata": {
        "colab": {
          "base_uri": "https://localhost:8080/",
          "height": 35
        },
        "id": "4Ruu9NWUTXkf",
        "outputId": "7f473f04-a7b4-4bbc-a6f6-9db306e03ec7"
      },
      "source": [
        "def is_palindrome(x):\n",
        "    a = ''.join(x.split())\n",
        "    if a == a[::-1]:\n",
        "        return 'YES'\n",
        "    return 'NO'\n"
      ],
      "execution_count": null,
      "outputs": [
        {
          "output_type": "execute_result",
          "data": {
            "application/vnd.google.colaboratory.intrinsic+json": {
              "type": "string"
            },
            "text/plain": [
              "'YES'"
            ]
          },
          "metadata": {
            "tags": []
          },
          "execution_count": 20
        }
      ]
    },
    {
      "cell_type": "markdown",
      "metadata": {
        "id": "3qDIRwf8UDK_"
      },
      "source": [
        "### Problem 5"
      ]
    },
    {
      "cell_type": "code",
      "metadata": {
        "id": "YpG4ElC3UEqW"
      },
      "source": [
        "x = str(input())\n",
        "y = x.lower()\n",
        "z = ''\n",
        "for i in range(len(y)-1):\n",
        "    if y[i] != y[i+1]:\n",
        "        z += y[i]\n",
        "z += y[len(y)-1]\n",
        "print(z)\n"
      ],
      "execution_count": null,
      "outputs": []
    }
  ]
}