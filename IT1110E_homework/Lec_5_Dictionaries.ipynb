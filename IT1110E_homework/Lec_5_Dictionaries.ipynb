{
  "nbformat": 4,
  "nbformat_minor": 0,
  "metadata": {
    "colab": {
      "name": "Copy of Lec 5. Dictionaries",
      "provenance": [],
      "collapsed_sections": [],
      "authorship_tag": "ABX9TyOHRwpDB2n7CdR+WH9IGHGy",
      "include_colab_link": true
    },
    "kernelspec": {
      "name": "python3",
      "display_name": "Python 3"
    },
    "language_info": {
      "name": "python"
    }
  },
  "cells": [
    {
      "cell_type": "markdown",
      "metadata": {
        "id": "view-in-github",
        "colab_type": "text"
      },
      "source": [
        "<a href=\"https://colab.research.google.com/github/tr2512/IT1110E/blob/main/IT1110E_homework/Lec_5_Dictionaries.ipynb\" target=\"_parent\"><img src=\"https://colab.research.google.com/assets/colab-badge.svg\" alt=\"Open In Colab\"/></a>"
      ]
    },
    {
      "cell_type": "markdown",
      "metadata": {
        "id": "xXgOG5B5LS5y"
      },
      "source": [
        "### Problem 1"
      ]
    },
    {
      "cell_type": "code",
      "metadata": {
        "id": "iyBAJnkYLRxE"
      },
      "source": [
        "x = {}\n",
        "while True:\n",
        "    try:\n",
        "        a, b = input().split()\n",
        "        x[a] = x.get(a,0) + int(b)\n",
        "    except:\n",
        "        break\n",
        "y = [[u,v] for u,v in x.items()]\n",
        "y.sort(key = lambda j: j[0])\n",
        "for i in y:\n",
        "    print(i[0], i[1])\n"
      ],
      "execution_count": null,
      "outputs": []
    },
    {
      "cell_type": "markdown",
      "metadata": {
        "id": "ttU7-ezNZsph"
      },
      "source": [
        "### Problem 2"
      ]
    },
    {
      "cell_type": "code",
      "metadata": {
        "id": "B3UtalYpUNoM"
      },
      "source": [
        "x = {}\n",
        "while True:\n",
        "    try:\n",
        "        text = input()\n",
        "        a = text.split()\n",
        "        for i in a:\n",
        "            x[i] = x.get(i,0) + 1\n",
        "    except:\n",
        "        break\n",
        "y = [[u,v] for u,v in x.items()]\n",
        "y.sort(key = lambda x: x[0])\n",
        "y.sort(reverse = True, key = lambda x: (x[1]))\n",
        "for x in y:\n",
        "    print(x[0])"
      ],
      "execution_count": null,
      "outputs": []
    },
    {
      "cell_type": "markdown",
      "metadata": {
        "id": "HnCLPZ9XZvMX"
      },
      "source": [
        "### Problem 3"
      ]
    },
    {
      "cell_type": "code",
      "metadata": {
        "id": "H8kFOoAzZwXm"
      },
      "source": [
        "x = {}\n",
        "j = ''\n",
        "while True:\n",
        "    try:\n",
        "        text = input()\n",
        "        lst = text.split()\n",
        "        for i in lst:\n",
        "            x[i] = x.get(i,0) + 1\n",
        "            j += str(x[i]-1) + ' '\n",
        "    except:\n",
        "        break\n",
        "print(j)\n",
        "\n"
      ],
      "execution_count": null,
      "outputs": []
    },
    {
      "cell_type": "markdown",
      "metadata": {
        "id": "iE58Gg2bbK7R"
      },
      "source": [
        "### Problem 4"
      ]
    },
    {
      "cell_type": "code",
      "metadata": {
        "id": "OR-MosvPbMS6"
      },
      "source": [
        "n = int(input())\n",
        "x = {}\n",
        "y = {}\n",
        "for i in range (n-1):\n",
        "    a, b = input().split()\n",
        "    x[a] = b\n",
        "for i in x.values():\n",
        "    if i not in x:\n",
        "        ancesor = i\n",
        "        break\n",
        "y[ancesor] = 0\n",
        "for i in x:\n",
        "    k = i\n",
        "    count = 0\n",
        "    while True:\n",
        "        v = x[k]\n",
        "        count += 1\n",
        "        if v in y:\n",
        "            y[i] = y[v] + count\n",
        "            break\n",
        "        k = v\n",
        "for i in sorted(y):\n",
        "    print(i, y[i])"
      ],
      "execution_count": null,
      "outputs": []
    },
    {
      "cell_type": "markdown",
      "metadata": {
        "id": "TwS9TsOViK6D"
      },
      "source": [
        "### Problem 5"
      ]
    },
    {
      "cell_type": "code",
      "metadata": {
        "id": "LLtx1jrQk4tH"
      },
      "source": [
        "n = int(input())\n",
        "lst = [int(x) for x in input().split()]\n",
        "res = [1]*n\n",
        "for i in range(n):\n",
        "    for j in range(i,n):\n",
        "        if lst[j]*lst[i] < 0 and abs(lst[j]) > abs(lst[i]) and res[i] >= res[j]:\n",
        "            res[j] = res[i] + 1\n",
        "print(max(res))"
      ],
      "execution_count": null,
      "outputs": []
    }
  ]
}