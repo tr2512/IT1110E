{
 "cells": [
  {
   "cell_type": "markdown",
   "id": "1bcf884f",
   "metadata": {},
   "source": [
    "Problem 1:"
   ]
  },
  {
   "cell_type": "code",
   "execution_count": null,
   "id": "ad463653",
   "metadata": {},
   "outputs": [],
   "source": [
    "a = input()\n",
    "c = 0\n",
    "for i in range (len(a)):\n",
    "    c += int(a[i])\n",
    "print(c)"
   ]
  },
  {
   "cell_type": "markdown",
   "id": "054c989f",
   "metadata": {},
   "source": [
    "Problem 2:"
   ]
  },
  {
   "cell_type": "code",
   "execution_count": null,
   "id": "23601e75",
   "metadata": {},
   "outputs": [],
   "source": [
    "n = int(input())\n",
    "for i in range (1,2*n):\n",
    "    if i <= n:\n",
    "        print((n-i) * ' ' + (2*i-1) * '*' + (n-i) * ' ')\n",
    "    else:\n",
    "        print((i-n) * ' ' + (4*n-2*i-1) * '*' + (i-n) * ' ')"
   ]
  },
  {
   "cell_type": "markdown",
   "id": "d83a1ed5",
   "metadata": {},
   "source": [
    "Problem 3:"
   ]
  },
  {
   "cell_type": "code",
   "execution_count": 3,
   "id": "b82e4184",
   "metadata": {},
   "outputs": [
    {
     "name": "stdout",
     "output_type": "stream",
     "text": [
      "9\n",
      "34\n"
     ]
    }
   ],
   "source": [
    "n = int(input())\n",
    "a = 0\n",
    "b = 1\n",
    "c = 0\n",
    "for i in range (2,n+1):\n",
    "    c = a + b\n",
    "    a = b\n",
    "    b = c\n",
    "print(c)"
   ]
  },
  {
   "cell_type": "markdown",
   "id": "e5166d48",
   "metadata": {},
   "source": []
  },
  {
   "cell_type": "code",
   "execution_count": null,
   "id": "4700f93e",
   "metadata": {},
   "outputs": [],
   "source": []
  }
 ],
 "metadata": {
  "kernelspec": {
   "display_name": "Python 3",
   "language": "python",
   "name": "python3"
  },
  "language_info": {
   "codemirror_mode": {
    "name": "ipython",
    "version": 3
   },
   "file_extension": ".py",
   "mimetype": "text/x-python",
   "name": "python",
   "nbconvert_exporter": "python",
   "pygments_lexer": "ipython3",
   "version": "3.6.13"
  }
 },
 "nbformat": 4,
 "nbformat_minor": 5
}
