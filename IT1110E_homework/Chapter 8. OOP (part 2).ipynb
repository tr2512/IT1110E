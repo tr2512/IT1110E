{
 "cells": [
  {
   "cell_type": "markdown",
   "id": "bd2c644f",
   "metadata": {},
   "source": [
    "# Question 1"
   ]
  },
  {
   "cell_type": "code",
   "execution_count": 8,
   "id": "4da079dc",
   "metadata": {},
   "outputs": [],
   "source": [
    "from Address import Address\n",
    "class CampusAddress(Address):\n",
    "    def __init__(self,office_number):\n",
    "        Address.__init__(self, 'Dai Co Viet', '01')\n",
    "        self.office_number = office_number"
   ]
  },
  {
   "cell_type": "markdown",
   "id": "f1fa0f82",
   "metadata": {},
   "source": [
    "# Question 2"
   ]
  },
  {
   "cell_type": "code",
   "execution_count": 13,
   "id": "6a23dde5",
   "metadata": {},
   "outputs": [],
   "source": [
    "from Polygon import Polygon\n",
    "import math\n",
    "class Triangle(Polygon):\n",
    "    def __init__(self):\n",
    "        Polygon.__init__(self, 3)\n",
    "    def findArea(self):\n",
    "        a = self.sides[0]\n",
    "        b = self.sides[1]\n",
    "        c = self.sides[2]\n",
    "        p = (a + b + c)/2\n",
    "        S = math.sqrt(p*(p-a)*(p-b)*(p-c))\n",
    "        print('The area of the triangle is %.2f' % (S))"
   ]
  },
  {
   "cell_type": "markdown",
   "id": "792bc465",
   "metadata": {},
   "source": [
    "# Question 3"
   ]
  },
  {
   "cell_type": "code",
   "execution_count": 1,
   "id": "af06de3b",
   "metadata": {},
   "outputs": [],
   "source": [
    "class Vehicle:\n",
    "    def __init__(self, name, mileage, capacity):\n",
    "        self.name = name\n",
    "        self.mileage = mileage\n",
    "        self.capacity = capacity\n",
    "    def __str__(self):\n",
    "        return 'Vehicle: name = %s, mileage = %d, cap = %d' % (self.name, self.mileage, self.capacity)\n",
    "    def fare(self):\n",
    "        return 100*self.capacity\n",
    "class Bus(Vehicle):\n",
    "    def __init__(self, name, mileage, capacity = 50):\n",
    "        Vehicle.__init__(self, name, mileage, capacity)\n",
    "    def __str__(self):\n",
    "        return 'Bus: name = %s, mileage = %d, cap = %d' %(self.name, self.mileage, self.capacity)\n",
    "    def fare(self):\n",
    "        return 110.0*self.capacity"
   ]
  },
  {
   "cell_type": "markdown",
   "id": "d6d0077b",
   "metadata": {},
   "source": [
    "# Question 4"
   ]
  },
  {
   "cell_type": "code",
   "execution_count": null,
   "id": "cb491c65",
   "metadata": {},
   "outputs": [],
   "source": [
    "from Derivatives import FuncWithDerivatives\n",
    "import math\n",
    "class Sine1(FuncWithDerivatives):\n",
    "    def __call__(self,x):\n",
    "        return math.sin(x)\n",
    "class Sine2(Sine1):\n",
    "    def df(self,x):\n",
    "        return math.cos(x)\n",
    "    def ddf(self,x):\n",
    "        return -math.sin(x)\n"
   ]
  },
  {
   "cell_type": "markdown",
   "id": "9629cfc4",
   "metadata": {},
   "source": [
    "# Question 5"
   ]
  },
  {
   "cell_type": "code",
   "execution_count": 20,
   "id": "a460533e",
   "metadata": {},
   "outputs": [
    {
     "name": "stdout",
     "output_type": "stream",
     "text": [
      "1643\t454\t1143\n",
      "1966\t509\t1328\n",
      "2421\t756\t1744\n"
     ]
    }
   ],
   "source": [
    "import copy\n",
    "class Matrix:\n",
    "    def __init__(self, mat):\n",
    "        self.mat = mat\n",
    "    def printed(self,x):\n",
    "        s = ''\n",
    "        for i in range(len(x)):\n",
    "            for j in range(len(x[0])):\n",
    "                s += str(x[i][j])\n",
    "                if j != len(x[0]) - 1:\n",
    "                    s +='\\t'\n",
    "            if i != len(x) - 1:\n",
    "                s+= '\\n'\n",
    "        return s\n",
    "    def __str__(self):\n",
    "        return self.printed(self.mat)\n",
    "    def size(self):\n",
    "        return len(self.mat), len(self.mat[0])\n",
    "    def __add__(self, other):\n",
    "        x = [[0 for i in range (len(self.mat[0]))] for i in range(len(self.mat))]\n",
    "        for i in range (len(self.mat)):\n",
    "            for j in range(len(self.mat[0])):\n",
    "                x[i][j] = self.mat[i][j] + other.mat[i][j]\n",
    "        return self.printed(x)\n",
    "    def __mul__(self,scalar):\n",
    "        x = [[0 for i in range (len(self.mat[0]))] for i in range(len(self.mat))]\n",
    "        for i in range (len(self.mat)):\n",
    "            for j in range(len(self.mat[0])):\n",
    "                x[i][j] = self.mat[i][j]*scalar\n",
    "        return self.printed(x)\n",
    "    def __rmul__(self,scalar):\n",
    "        x = [[0 for i in range (len(self.mat[0]))] for i in range(len(self.mat))]\n",
    "        for i in range (len(self.mat)):\n",
    "            for j in range(len(self.mat[0])):\n",
    "                x[i][j] = self.mat[i][j]*scalar\n",
    "        return self.printed(x)\n",
    "    def solve(self,b):\n",
    "        a = copy.deepcopy(self.mat)\n",
    "        slt = [0 for i in range (len(a))]\n",
    "        for i in range (len(a)):\n",
    "            a[i].append(b[i])\n",
    "        for i in range (len(a)):\n",
    "            for j in range(i+1,len(a)):\n",
    "                for k in range(len(a[0])):\n",
    "                    a[j][k] = a[j][i]*a[i][k]-a[i][i]*a[j][k]\n",
    "        for i in range (len(a)):\n",
    "            slt[i] = a[-i-1][-1]\n",
    "            for j in range (i):\n",
    "                slt[i] -= slt[j]*a[-i-1][-i-1]\n",
    "            slt[i] /= a[-1-i][-i-2]\n",
    "        a = ''\n",
    "        slt.reverse()\n",
    "        for i in slt:\n",
    "            a += '%.2f ' % i \n",
    "        return a\n",
    "class SquareMatrix(Matrix):\n",
    "    def __pow__(self,scalar):\n",
    "        u = copy.deepcopy(self.mat)\n",
    "        result = copy.deepcopy(self.mat)\n",
    "        dummy = copy.deepcopy(self.mat)\n",
    "        n = len(u)\n",
    "        #if n == 1:\n",
    "            #return str(u[0] ** scalar)\n",
    "        if scalar == 1:\n",
    "            return self.printed(u)\n",
    "        elif scalar == 0:\n",
    "            a = [[0 for i in range(n)] for i in range (n)]\n",
    "            for i in range (n):\n",
    "                a[i][i] = 1\n",
    "            return self.printed(a)\n",
    "        for i in range (2,scalar + 1):\n",
    "            for j in range (n):\n",
    "                for k in range (n):\n",
    "                    dummy[j][k] = 0\n",
    "                    for m in range (n):\n",
    "                        dummy[j][k] = dummy[j][k] + result[j][m]*u[m][k]\n",
    "            result = copy.deepcopy(dummy)\n",
    "        return self.printed(result)\n",
    "m = SquareMatrix([[1,2,3],[2,1,4],[9,0,2]])\n",
    "print(m**4)"
   ]
  },
  {
   "cell_type": "code",
   "execution_count": null,
   "id": "ca351c4d",
   "metadata": {},
   "outputs": [],
   "source": []
  },
  {
   "cell_type": "code",
   "execution_count": null,
   "id": "5683dc5d",
   "metadata": {},
   "outputs": [],
   "source": []
  },
  {
   "cell_type": "code",
   "execution_count": null,
   "id": "87c235de",
   "metadata": {},
   "outputs": [],
   "source": []
  }
 ],
 "metadata": {
  "kernelspec": {
   "display_name": "Python 3",
   "language": "python",
   "name": "python3"
  },
  "language_info": {
   "codemirror_mode": {
    "name": "ipython",
    "version": 3
   },
   "file_extension": ".py",
   "mimetype": "text/x-python",
   "name": "python",
   "nbconvert_exporter": "python",
   "pygments_lexer": "ipython3",
   "version": "3.9.5"
  }
 },
 "nbformat": 4,
 "nbformat_minor": 5
}
