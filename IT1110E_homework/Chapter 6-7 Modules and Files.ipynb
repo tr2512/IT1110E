{
 "cells": [
  {
   "cell_type": "markdown",
   "id": "14aea198",
   "metadata": {},
   "source": [
    "# Problem 1"
   ]
  },
  {
   "cell_type": "code",
   "execution_count": null,
   "id": "ba2ebe80",
   "metadata": {},
   "outputs": [],
   "source": [
    "import datetime\n",
    "def add_days(date,n):\n",
    "    a = datetime.timedelta(days = n)\n",
    "    return date+a\n",
    "# Test case\n",
    "cur_date = datetime.date(2016,2,10)\n",
    "print(add_days(cur_date, -301))\n",
    "# Solution is not correct (unknown reason)"
   ]
  },
  {
   "cell_type": "markdown",
   "id": "a6cbfd4b",
   "metadata": {},
   "source": [
    "# Problem 2"
   ]
  },
  {
   "cell_type": "code",
   "execution_count": null,
   "id": "1b7f44e9",
   "metadata": {},
   "outputs": [],
   "source": [
    "import list_utilities\n",
    "a = eval(input())\n",
    "newlist = list_utilities.flatten_nested_list(a)\n",
    "for i in newlist:\n",
    "    print(i,end=' ')\n",
    "print('')\n",
    "print (list_utilities.max_num_in_list(newlist))"
   ]
  },
  {
   "cell_type": "markdown",
   "id": "5df8c83b",
   "metadata": {},
   "source": [
    "# Problem 3"
   ]
  },
  {
   "cell_type": "markdown",
   "id": "b62a3882",
   "metadata": {},
   "source": [
    "Set_utilities.py is in IT1110E_homework file \n",
    "#### Note: I'm using IT1110E as cwd and sys.append.path is not recommended and too lazy to create __init__.py so theres no code here actually\n",
    "#### Note2: At 10h10 30/5/2021, apparently the test case mess up with intersection and union so set_union return intersection and vice versa."
   ]
  },
  {
   "cell_type": "markdown",
   "id": "65dae153",
   "metadata": {},
   "source": [
    "# Problem 4"
   ]
  },
  {
   "cell_type": "code",
   "execution_count": 18,
   "id": "ccba09d4",
   "metadata": {},
   "outputs": [],
   "source": [
    "def count_words(file_path):\n",
    "    f = open(file_path,'r')\n",
    "    count = 0\n",
    "    for line in f:\n",
    "        count += len(line.split())\n",
    "    print(count)\n",
    "    return None"
   ]
  },
  {
   "cell_type": "markdown",
   "id": "89c539a2",
   "metadata": {},
   "source": [
    "# Problem 5"
   ]
  },
  {
   "cell_type": "code",
   "execution_count": null,
   "id": "ef4a837c",
   "metadata": {},
   "outputs": [],
   "source": [
    "def process(filepath):\n",
    "    f = open(filepath,'r')\n",
    "    storage = []\n",
    "    for line in f:\n",
    "        storage.append(line.split())\n",
    "    x = {}\n",
    "    for i in storage:\n",
    "        if i[0] not in x:\n",
    "            x[i[0]] = {i[1]:int(i[2])}\n",
    "        elif i[1] not in x[i[0]]:\n",
    "            x[i[0]][i[1]] = int(i[2])\n",
    "        else:\n",
    "            x[i[0]][i[1]] += int(i[2])\n",
    "    for i in x:\n",
    "        print('%s:' % i )\n",
    "        for j in (sorted(x[i])):\n",
    "            print(j,x[i][j])\n",
    "    return None"
   ]
  }
 ],
 "metadata": {
  "kernelspec": {
   "display_name": "Python 3",
   "language": "python",
   "name": "python3"
  },
  "language_info": {
   "codemirror_mode": {
    "name": "ipython",
    "version": 3
   },
   "file_extension": ".py",
   "mimetype": "text/x-python",
   "name": "python",
   "nbconvert_exporter": "python",
   "pygments_lexer": "ipython3",
   "version": "3.9.5"
  }
 },
 "nbformat": 4,
 "nbformat_minor": 5
}
