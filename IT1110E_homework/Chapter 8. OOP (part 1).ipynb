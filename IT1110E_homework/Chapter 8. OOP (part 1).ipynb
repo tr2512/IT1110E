{
 "cells": [
  {
   "cell_type": "markdown",
   "id": "f8066b8a",
   "metadata": {},
   "source": [
    "# Problem 6"
   ]
  },
  {
   "cell_type": "code",
   "execution_count": 1,
   "id": "e74762d7",
   "metadata": {},
   "outputs": [],
   "source": [
    "class string_utilities:\n",
    "    def is_valid_parenthese(self,s):\n",
    "        if s.count('[') != s.count(']') or s.count('(') != s.count(')') or s.count('{') != s.count('}'):\n",
    "            return False\n",
    "        lst = [i for i in s]\n",
    "        while True:\n",
    "            for i in range(len(lst)):\n",
    "                if lst[0] == '(' and lst[i] == ')':\n",
    "                    break\n",
    "                elif lst[0] == '[' and lst[i] == ']':\n",
    "                    break\n",
    "                elif lst[0] == '{' and lst[i] == '}':\n",
    "                    break\n",
    "            else:\n",
    "                return False\n",
    "            lst.pop(i)\n",
    "            lst.pop(0)\n",
    "            if lst == []:\n",
    "                return True\n",
    "    def reverse_words(self, s):\n",
    "        return ' '.join(s.split()[::-1])"
   ]
  },
  {
   "cell_type": "markdown",
   "id": "01d8d2c2",
   "metadata": {},
   "source": [
    "# Problem 7,8,9\n"
   ]
  },
  {
   "cell_type": "code",
   "execution_count": 20,
   "id": "5237d444",
   "metadata": {},
   "outputs": [
    {
     "name": "stdout",
     "output_type": "stream",
     "text": [
      "0.25 0.50 0.25 \n"
     ]
    }
   ],
   "source": [
    "class Matrix:\n",
    "    def __init__(self, mat):\n",
    "        self.mat = mat\n",
    "    def printed(self,x):\n",
    "        s = ''\n",
    "        for i in range(len(x)):\n",
    "            for j in range(len(x[0])):\n",
    "                s += str(x[i][j])\n",
    "                if j != len(x[0]) - 1:\n",
    "                    s +='\\t'\n",
    "            if i != len(x) - 1:\n",
    "                s+= '\\n'\n",
    "        return s\n",
    "    def __str__(self):\n",
    "        return self.printed(self.mat)\n",
    "    def size(self):\n",
    "        return len(self.mat), len(self.mat[0])\n",
    "    def __add__(self, other):\n",
    "        x = [[0 for i in range (len(self.mat[0]))] for i in range(len(self.mat))]\n",
    "        for i in range (len(self.mat)):\n",
    "            for j in range(len(self.mat[0])):\n",
    "                x[i][j] = self.mat[i][j] + other.mat[i][j]\n",
    "        return self.printed(x)\n",
    "    def __mul__(self,scalar):\n",
    "        x = [[0 for i in range (len(self.mat[0]))] for i in range(len(self.mat))]\n",
    "        for i in range (len(self.mat)):\n",
    "            for j in range(len(self.mat[0])):\n",
    "                x[i][j] = self.mat[i][j]*scalar\n",
    "        return self.printed(x)\n",
    "    def __rmul__(self,scalar):\n",
    "        x = [[0 for i in range (len(self.mat[0]))] for i in range(len(self.mat))]\n",
    "        for i in range (len(self.mat)):\n",
    "            for j in range(len(self.mat[0])):\n",
    "                x[i][j] = self.mat[i][j]*scalar\n",
    "        return self.printed(x)\n",
    "    def solve(self,b):\n",
    "        a = self.mat.copy()\n",
    "        slt = [0 for i in range (len(a))]\n",
    "        for i in range (len(a)):\n",
    "            a[i].append(b[i])\n",
    "        for i in range (len(a)):\n",
    "            for j in range(i+1,len(a)):\n",
    "                for k in range(len(a[0])):\n",
    "                    a[j][k] = a[j][i]*a[i][k]-a[i][i]*a[j][k]\n",
    "        for i in range (len(a)):\n",
    "            slt[i] = a[-i-1][-1]\n",
    "            for j in range (i):\n",
    "                slt[i] -= slt[j]*a[-i-1][-i-1]\n",
    "            slt[i] /= a[-1-i][-i-2]\n",
    "        a = ''\n",
    "        slt.reverse()\n",
    "        for i in slt:\n",
    "            a += '%.2f ' % i \n",
    "        return a\n",
    "m = Matrix([[1, 1, 1], [0, 2, 0], [0, 0, 4]])\n",
    "print(m.solve([1,1,1]))"
   ]
  },
  {
   "cell_type": "code",
   "execution_count": 13,
   "id": "38570bf8",
   "metadata": {},
   "outputs": [
    {
     "data": {
      "text/plain": [
       "1"
      ]
     },
     "execution_count": 13,
     "metadata": {},
     "output_type": "execute_result"
    }
   ],
   "source": []
  },
  {
   "cell_type": "code",
   "execution_count": null,
   "id": "893accd5",
   "metadata": {},
   "outputs": [],
   "source": []
  }
 ],
 "metadata": {
  "kernelspec": {
   "display_name": "Python 3",
   "language": "python",
   "name": "python3"
  },
  "language_info": {
   "codemirror_mode": {
    "name": "ipython",
    "version": 3
   },
   "file_extension": ".py",
   "mimetype": "text/x-python",
   "name": "python",
   "nbconvert_exporter": "python",
   "pygments_lexer": "ipython3",
   "version": "3.9.5"
  }
 },
 "nbformat": 4,
 "nbformat_minor": 5
}
